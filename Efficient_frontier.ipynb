{
 "cells": [
  {
   "cell_type": "code",
   "execution_count": 1,
   "id": "6f2de2e6-a56a-48a4-bc18-b4dc650f4dce",
   "metadata": {},
   "outputs": [],
   "source": [
    "# Efficient_frontier by Pham (^-^)\n",
    "import numpy as np\n",
    "import pandas as pd\n",
    "import datetime as dt\n",
    "import yfinance as yf\n",
    "import matplotlib.pyplot as plt\n",
    "%matplotlib inline\n",
    "\n",
    "years = 13\n",
    "endDate = dt.datetime.now()\n",
    "startDate = endDate - dt.timedelta(days=365*years)"
   ]
  },
  {
   "cell_type": "code",
   "execution_count": 2,
   "id": "4c9d9e2a-22fa-4127-bf59-36794a135eca",
   "metadata": {},
   "outputs": [
    {
     "name": "stderr",
     "output_type": "stream",
     "text": [
      "[*********************100%%**********************]  2 of 2 completed\n"
     ]
    },
    {
     "data": {
      "text/html": [
       "<div>\n",
       "<style scoped>\n",
       "    .dataframe tbody tr th:only-of-type {\n",
       "        vertical-align: middle;\n",
       "    }\n",
       "\n",
       "    .dataframe tbody tr th {\n",
       "        vertical-align: top;\n",
       "    }\n",
       "\n",
       "    .dataframe thead tr th {\n",
       "        text-align: left;\n",
       "    }\n",
       "\n",
       "    .dataframe thead tr:last-of-type th {\n",
       "        text-align: right;\n",
       "    }\n",
       "</style>\n",
       "<table border=\"1\" class=\"dataframe\">\n",
       "  <thead>\n",
       "    <tr>\n",
       "      <th>Price</th>\n",
       "      <th colspan=\"2\" halign=\"left\">Adj Close</th>\n",
       "      <th colspan=\"2\" halign=\"left\">Close</th>\n",
       "      <th colspan=\"2\" halign=\"left\">High</th>\n",
       "      <th colspan=\"2\" halign=\"left\">Low</th>\n",
       "      <th colspan=\"2\" halign=\"left\">Open</th>\n",
       "      <th colspan=\"2\" halign=\"left\">Volume</th>\n",
       "    </tr>\n",
       "    <tr>\n",
       "      <th>Ticker</th>\n",
       "      <th>GLD</th>\n",
       "      <th>VOO</th>\n",
       "      <th>GLD</th>\n",
       "      <th>VOO</th>\n",
       "      <th>GLD</th>\n",
       "      <th>VOO</th>\n",
       "      <th>GLD</th>\n",
       "      <th>VOO</th>\n",
       "      <th>GLD</th>\n",
       "      <th>VOO</th>\n",
       "      <th>GLD</th>\n",
       "      <th>VOO</th>\n",
       "    </tr>\n",
       "    <tr>\n",
       "      <th>Date</th>\n",
       "      <th></th>\n",
       "      <th></th>\n",
       "      <th></th>\n",
       "      <th></th>\n",
       "      <th></th>\n",
       "      <th></th>\n",
       "      <th></th>\n",
       "      <th></th>\n",
       "      <th></th>\n",
       "      <th></th>\n",
       "      <th></th>\n",
       "      <th></th>\n",
       "    </tr>\n",
       "  </thead>\n",
       "  <tbody>\n",
       "    <tr>\n",
       "      <th>2011-03-01</th>\n",
       "      <td>140.029999</td>\n",
       "      <td>93.961304</td>\n",
       "      <td>140.029999</td>\n",
       "      <td>119.699997</td>\n",
       "      <td>140.029999</td>\n",
       "      <td>122.300003</td>\n",
       "      <td>138.490005</td>\n",
       "      <td>119.699997</td>\n",
       "      <td>138.570007</td>\n",
       "      <td>122.279999</td>\n",
       "      <td>17438100</td>\n",
       "      <td>235350</td>\n",
       "    </tr>\n",
       "    <tr>\n",
       "      <th>2011-03-02</th>\n",
       "      <td>139.919998</td>\n",
       "      <td>94.228188</td>\n",
       "      <td>139.919998</td>\n",
       "      <td>120.040001</td>\n",
       "      <td>140.550003</td>\n",
       "      <td>120.559998</td>\n",
       "      <td>139.479996</td>\n",
       "      <td>119.500000</td>\n",
       "      <td>140.240005</td>\n",
       "      <td>119.620003</td>\n",
       "      <td>15719800</td>\n",
       "      <td>176350</td>\n",
       "    </tr>\n",
       "    <tr>\n",
       "      <th>2011-03-03</th>\n",
       "      <td>138.089996</td>\n",
       "      <td>95.845215</td>\n",
       "      <td>138.089996</td>\n",
       "      <td>122.099998</td>\n",
       "      <td>139.130005</td>\n",
       "      <td>122.239998</td>\n",
       "      <td>137.570007</td>\n",
       "      <td>121.080002</td>\n",
       "      <td>138.809998</td>\n",
       "      <td>121.080002</td>\n",
       "      <td>16485000</td>\n",
       "      <td>136450</td>\n",
       "    </tr>\n",
       "    <tr>\n",
       "      <th>2011-03-04</th>\n",
       "      <td>139.350006</td>\n",
       "      <td>95.138771</td>\n",
       "      <td>139.350006</td>\n",
       "      <td>121.199997</td>\n",
       "      <td>139.750000</td>\n",
       "      <td>122.059998</td>\n",
       "      <td>138.610001</td>\n",
       "      <td>120.400002</td>\n",
       "      <td>138.630005</td>\n",
       "      <td>122.059998</td>\n",
       "      <td>17454600</td>\n",
       "      <td>168250</td>\n",
       "    </tr>\n",
       "    <tr>\n",
       "      <th>2011-03-07</th>\n",
       "      <td>139.720001</td>\n",
       "      <td>94.306671</td>\n",
       "      <td>139.720001</td>\n",
       "      <td>120.139999</td>\n",
       "      <td>140.610001</td>\n",
       "      <td>121.739998</td>\n",
       "      <td>139.279999</td>\n",
       "      <td>119.599998</td>\n",
       "      <td>140.289993</td>\n",
       "      <td>121.599998</td>\n",
       "      <td>14068900</td>\n",
       "      <td>155200</td>\n",
       "    </tr>\n",
       "    <tr>\n",
       "      <th>...</th>\n",
       "      <td>...</td>\n",
       "      <td>...</td>\n",
       "      <td>...</td>\n",
       "      <td>...</td>\n",
       "      <td>...</td>\n",
       "      <td>...</td>\n",
       "      <td>...</td>\n",
       "      <td>...</td>\n",
       "      <td>...</td>\n",
       "      <td>...</td>\n",
       "      <td>...</td>\n",
       "      <td>...</td>\n",
       "    </tr>\n",
       "    <tr>\n",
       "      <th>2024-02-16</th>\n",
       "      <td>186.339996</td>\n",
       "      <td>459.029999</td>\n",
       "      <td>186.339996</td>\n",
       "      <td>459.029999</td>\n",
       "      <td>186.669998</td>\n",
       "      <td>462.149994</td>\n",
       "      <td>184.839996</td>\n",
       "      <td>458.399994</td>\n",
       "      <td>185.080002</td>\n",
       "      <td>461.079987</td>\n",
       "      <td>6516800</td>\n",
       "      <td>5526200</td>\n",
       "    </tr>\n",
       "    <tr>\n",
       "      <th>2024-02-20</th>\n",
       "      <td>187.470001</td>\n",
       "      <td>456.510010</td>\n",
       "      <td>187.470001</td>\n",
       "      <td>456.510010</td>\n",
       "      <td>188.029999</td>\n",
       "      <td>458.059998</td>\n",
       "      <td>187.399994</td>\n",
       "      <td>454.429993</td>\n",
       "      <td>187.960007</td>\n",
       "      <td>457.440002</td>\n",
       "      <td>5531200</td>\n",
       "      <td>5306800</td>\n",
       "    </tr>\n",
       "    <tr>\n",
       "      <th>2024-02-21</th>\n",
       "      <td>187.479996</td>\n",
       "      <td>456.970001</td>\n",
       "      <td>187.479996</td>\n",
       "      <td>456.970001</td>\n",
       "      <td>188.039993</td>\n",
       "      <td>457.119995</td>\n",
       "      <td>187.100006</td>\n",
       "      <td>453.600006</td>\n",
       "      <td>187.880005</td>\n",
       "      <td>455.320007</td>\n",
       "      <td>5790000</td>\n",
       "      <td>4223100</td>\n",
       "    </tr>\n",
       "    <tr>\n",
       "      <th>2024-02-22</th>\n",
       "      <td>187.559998</td>\n",
       "      <td>466.570007</td>\n",
       "      <td>187.559998</td>\n",
       "      <td>466.570007</td>\n",
       "      <td>187.639999</td>\n",
       "      <td>467.329987</td>\n",
       "      <td>187.050003</td>\n",
       "      <td>462.320007</td>\n",
       "      <td>187.559998</td>\n",
       "      <td>463.220001</td>\n",
       "      <td>4550800</td>\n",
       "      <td>4328500</td>\n",
       "    </tr>\n",
       "    <tr>\n",
       "      <th>2024-02-23</th>\n",
       "      <td>188.619995</td>\n",
       "      <td>466.779999</td>\n",
       "      <td>188.619995</td>\n",
       "      <td>466.779999</td>\n",
       "      <td>189.179993</td>\n",
       "      <td>468.869995</td>\n",
       "      <td>187.460007</td>\n",
       "      <td>466.089996</td>\n",
       "      <td>187.559998</td>\n",
       "      <td>468.089996</td>\n",
       "      <td>6826100</td>\n",
       "      <td>4048500</td>\n",
       "    </tr>\n",
       "  </tbody>\n",
       "</table>\n",
       "<p>3268 rows × 12 columns</p>\n",
       "</div>"
      ],
      "text/plain": [
       "Price        Adj Close                   Close                    High  \\\n",
       "Ticker             GLD         VOO         GLD         VOO         GLD   \n",
       "Date                                                                     \n",
       "2011-03-01  140.029999   93.961304  140.029999  119.699997  140.029999   \n",
       "2011-03-02  139.919998   94.228188  139.919998  120.040001  140.550003   \n",
       "2011-03-03  138.089996   95.845215  138.089996  122.099998  139.130005   \n",
       "2011-03-04  139.350006   95.138771  139.350006  121.199997  139.750000   \n",
       "2011-03-07  139.720001   94.306671  139.720001  120.139999  140.610001   \n",
       "...                ...         ...         ...         ...         ...   \n",
       "2024-02-16  186.339996  459.029999  186.339996  459.029999  186.669998   \n",
       "2024-02-20  187.470001  456.510010  187.470001  456.510010  188.029999   \n",
       "2024-02-21  187.479996  456.970001  187.479996  456.970001  188.039993   \n",
       "2024-02-22  187.559998  466.570007  187.559998  466.570007  187.639999   \n",
       "2024-02-23  188.619995  466.779999  188.619995  466.779999  189.179993   \n",
       "\n",
       "Price                          Low                    Open              \\\n",
       "Ticker             VOO         GLD         VOO         GLD         VOO   \n",
       "Date                                                                     \n",
       "2011-03-01  122.300003  138.490005  119.699997  138.570007  122.279999   \n",
       "2011-03-02  120.559998  139.479996  119.500000  140.240005  119.620003   \n",
       "2011-03-03  122.239998  137.570007  121.080002  138.809998  121.080002   \n",
       "2011-03-04  122.059998  138.610001  120.400002  138.630005  122.059998   \n",
       "2011-03-07  121.739998  139.279999  119.599998  140.289993  121.599998   \n",
       "...                ...         ...         ...         ...         ...   \n",
       "2024-02-16  462.149994  184.839996  458.399994  185.080002  461.079987   \n",
       "2024-02-20  458.059998  187.399994  454.429993  187.960007  457.440002   \n",
       "2024-02-21  457.119995  187.100006  453.600006  187.880005  455.320007   \n",
       "2024-02-22  467.329987  187.050003  462.320007  187.559998  463.220001   \n",
       "2024-02-23  468.869995  187.460007  466.089996  187.559998  468.089996   \n",
       "\n",
       "Price         Volume           \n",
       "Ticker           GLD      VOO  \n",
       "Date                           \n",
       "2011-03-01  17438100   235350  \n",
       "2011-03-02  15719800   176350  \n",
       "2011-03-03  16485000   136450  \n",
       "2011-03-04  17454600   168250  \n",
       "2011-03-07  14068900   155200  \n",
       "...              ...      ...  \n",
       "2024-02-16   6516800  5526200  \n",
       "2024-02-20   5531200  5306800  \n",
       "2024-02-21   5790000  4223100  \n",
       "2024-02-22   4550800  4328500  \n",
       "2024-02-23   6826100  4048500  \n",
       "\n",
       "[3268 rows x 12 columns]"
      ]
     },
     "execution_count": 2,
     "metadata": {},
     "output_type": "execute_result"
    }
   ],
   "source": [
    "tickers = ['GLD','VOO']\n",
    "\n",
    "df = yf.download(tickers, start=startDate, end=endDate)\n",
    "df"
   ]
  },
  {
   "cell_type": "code",
   "execution_count": 3,
   "id": "785b3807-5e7c-42a9-940f-f8a280e55794",
   "metadata": {},
   "outputs": [
    {
     "data": {
      "text/html": [
       "<div>\n",
       "<style scoped>\n",
       "    .dataframe tbody tr th:only-of-type {\n",
       "        vertical-align: middle;\n",
       "    }\n",
       "\n",
       "    .dataframe tbody tr th {\n",
       "        vertical-align: top;\n",
       "    }\n",
       "\n",
       "    .dataframe thead th {\n",
       "        text-align: right;\n",
       "    }\n",
       "</style>\n",
       "<table border=\"1\" class=\"dataframe\">\n",
       "  <thead>\n",
       "    <tr style=\"text-align: right;\">\n",
       "      <th>Ticker</th>\n",
       "      <th>GLD</th>\n",
       "      <th>VOO</th>\n",
       "    </tr>\n",
       "    <tr>\n",
       "      <th>Date</th>\n",
       "      <th></th>\n",
       "      <th></th>\n",
       "    </tr>\n",
       "  </thead>\n",
       "  <tbody>\n",
       "    <tr>\n",
       "      <th>2011-03-01</th>\n",
       "      <td>NaN</td>\n",
       "      <td>NaN</td>\n",
       "    </tr>\n",
       "    <tr>\n",
       "      <th>2011-03-02</th>\n",
       "      <td>-0.000786</td>\n",
       "      <td>0.002836</td>\n",
       "    </tr>\n",
       "    <tr>\n",
       "      <th>2011-03-03</th>\n",
       "      <td>-0.013165</td>\n",
       "      <td>0.017015</td>\n",
       "    </tr>\n",
       "    <tr>\n",
       "      <th>2011-03-04</th>\n",
       "      <td>0.009083</td>\n",
       "      <td>-0.007398</td>\n",
       "    </tr>\n",
       "    <tr>\n",
       "      <th>2011-03-07</th>\n",
       "      <td>0.002652</td>\n",
       "      <td>-0.008785</td>\n",
       "    </tr>\n",
       "    <tr>\n",
       "      <th>...</th>\n",
       "      <td>...</td>\n",
       "      <td>...</td>\n",
       "    </tr>\n",
       "    <tr>\n",
       "      <th>2024-02-16</th>\n",
       "      <td>0.003656</td>\n",
       "      <td>-0.005128</td>\n",
       "    </tr>\n",
       "    <tr>\n",
       "      <th>2024-02-20</th>\n",
       "      <td>0.006046</td>\n",
       "      <td>-0.005505</td>\n",
       "    </tr>\n",
       "    <tr>\n",
       "      <th>2024-02-21</th>\n",
       "      <td>0.000053</td>\n",
       "      <td>0.001007</td>\n",
       "    </tr>\n",
       "    <tr>\n",
       "      <th>2024-02-22</th>\n",
       "      <td>0.000427</td>\n",
       "      <td>0.020790</td>\n",
       "    </tr>\n",
       "    <tr>\n",
       "      <th>2024-02-23</th>\n",
       "      <td>0.005636</td>\n",
       "      <td>0.000450</td>\n",
       "    </tr>\n",
       "  </tbody>\n",
       "</table>\n",
       "<p>3268 rows × 2 columns</p>\n",
       "</div>"
      ],
      "text/plain": [
       "Ticker           GLD       VOO\n",
       "Date                          \n",
       "2011-03-01       NaN       NaN\n",
       "2011-03-02 -0.000786  0.002836\n",
       "2011-03-03 -0.013165  0.017015\n",
       "2011-03-04  0.009083 -0.007398\n",
       "2011-03-07  0.002652 -0.008785\n",
       "...              ...       ...\n",
       "2024-02-16  0.003656 -0.005128\n",
       "2024-02-20  0.006046 -0.005505\n",
       "2024-02-21  0.000053  0.001007\n",
       "2024-02-22  0.000427  0.020790\n",
       "2024-02-23  0.005636  0.000450\n",
       "\n",
       "[3268 rows x 2 columns]"
      ]
     },
     "execution_count": 3,
     "metadata": {},
     "output_type": "execute_result"
    }
   ],
   "source": [
    "df = np.log(1 + df['Adj Close'].pct_change())\n",
    "df"
   ]
  },
  {
   "cell_type": "code",
   "execution_count": 4,
   "id": "c008a7a1-8a14-4d88-b7d5-5496c66c4474",
   "metadata": {},
   "outputs": [
    {
     "data": {
      "text/plain": [
       "0.0002909171600386143"
      ]
     },
     "execution_count": 4,
     "metadata": {},
     "output_type": "execute_result"
    }
   ],
   "source": [
    "#portfolio return = w1*mean1 + w2*mean2\n",
    "weights = [0.5,0.5]\n",
    "\n",
    "weights[0]*df.iloc[:,0].mean() + weights[1]*df.iloc[:,1].mean()"
   ]
  },
  {
   "cell_type": "code",
   "execution_count": 5,
   "id": "43451f60-9e56-4f3d-b09e-51ff4daf620b",
   "metadata": {},
   "outputs": [],
   "source": [
    "# func for portfolio return with many assets\n",
    "def portfolio_return(weights) :\n",
    "    return np.dot(df.mean() , weights)"
   ]
  },
  {
   "cell_type": "code",
   "execution_count": 6,
   "id": "4f280b2b-e171-4536-9740-e74c906cfeb9",
   "metadata": {},
   "outputs": [
    {
     "data": {
      "text/plain": [
       "0.0002909171600386143"
      ]
     },
     "execution_count": 6,
     "metadata": {},
     "output_type": "execute_result"
    }
   ],
   "source": [
    "portfolio_return(weights)"
   ]
  },
  {
   "attachments": {
    "9f536931-6cb5-48c0-854a-ae691c6509a4.png": {
     "image/png": "[encoded data removed]"
    }
   },
   "cell_type": "markdown",
   "id": "b4493623-52cd-4968-8721-046b375c08b8",
   "metadata": {},
   "source": [
    "![Screenshot 2024-02-25 215937.png](attachment:9f536931-6cb5-48c0-854a-ae691c6509a4.png)"
   ]
  },
  {
   "attachments": {
    "e8bd6a87-df9b-44e1-8e99-97eae23998e7.png": {
     "image/png": "[encoded data removed]"
    }
   },
   "cell_type": "markdown",
   "id": "5c2cff2c-4246-4fe3-8610-b4d7bad3bc16",
   "metadata": {},
   "source": [
    "![Screenshot 2024-02-25 215828.png](attachment:e8bd6a87-df9b-44e1-8e99-97eae23998e7.png)"
   ]
  },
  {
   "cell_type": "code",
   "execution_count": 7,
   "id": "7ae1d43a-21d7-4749-9710-a22fb319bccd",
   "metadata": {},
   "outputs": [
    {
     "data": {
      "text/html": [
       "<div>\n",
       "<style scoped>\n",
       "    .dataframe tbody tr th:only-of-type {\n",
       "        vertical-align: middle;\n",
       "    }\n",
       "\n",
       "    .dataframe tbody tr th {\n",
       "        vertical-align: top;\n",
       "    }\n",
       "\n",
       "    .dataframe thead th {\n",
       "        text-align: right;\n",
       "    }\n",
       "</style>\n",
       "<table border=\"1\" class=\"dataframe\">\n",
       "  <thead>\n",
       "    <tr style=\"text-align: right;\">\n",
       "      <th>Ticker</th>\n",
       "      <th>GLD</th>\n",
       "      <th>VOO</th>\n",
       "    </tr>\n",
       "    <tr>\n",
       "      <th>Ticker</th>\n",
       "      <th></th>\n",
       "      <th></th>\n",
       "    </tr>\n",
       "  </thead>\n",
       "  <tbody>\n",
       "    <tr>\n",
       "      <th>GLD</th>\n",
       "      <td>0.000095</td>\n",
       "      <td>0.000004</td>\n",
       "    </tr>\n",
       "    <tr>\n",
       "      <th>VOO</th>\n",
       "      <td>0.000004</td>\n",
       "      <td>0.000121</td>\n",
       "    </tr>\n",
       "  </tbody>\n",
       "</table>\n",
       "</div>"
      ],
      "text/plain": [
       "Ticker       GLD       VOO\n",
       "Ticker                    \n",
       "GLD     0.000095  0.000004\n",
       "VOO     0.000004  0.000121"
      ]
     },
     "execution_count": 7,
     "metadata": {},
     "output_type": "execute_result"
    }
   ],
   "source": [
    "df.cov()"
   ]
  },
  {
   "cell_type": "code",
   "execution_count": 8,
   "id": "32c09878-fc8a-482f-8404-f1526d9c9223",
   "metadata": {},
   "outputs": [
    {
     "data": {
      "text/plain": [
       "5.5897311034779614e-05"
      ]
     },
     "execution_count": 8,
     "metadata": {},
     "output_type": "execute_result"
    }
   ],
   "source": [
    "# portfolio variance \n",
    "pv = ((weights[0]**2)*df.cov().iloc[0,0]) + ((weights[1]**2)*df.cov().iloc[1,1]) + 2*weights[0]*weights[1]*df.cov().iloc[0,1]\n",
    "pv"
   ]
  },
  {
   "cell_type": "code",
   "execution_count": 9,
   "id": "55693610-a280-45fd-91d4-69445019c666",
   "metadata": {},
   "outputs": [
    {
     "data": {
      "text/plain": [
       "0.00747645043016936"
      ]
     },
     "execution_count": 9,
     "metadata": {},
     "output_type": "execute_result"
    }
   ],
   "source": [
    "# portfolio std \n",
    "pv**(0.5)"
   ]
  },
  {
   "cell_type": "code",
   "execution_count": 10,
   "id": "7078f20c-3def-4935-bfb4-28bfb6e2f8fa",
   "metadata": {},
   "outputs": [
    {
     "data": {
      "text/plain": [
       "0.11868497116638005"
      ]
     },
     "execution_count": 10,
     "metadata": {},
     "output_type": "execute_result"
    }
   ],
   "source": [
    "# portfolio_std for 1 years -> 252 trading days\n",
    "pv**(0.5)*np.sqrt(252)"
   ]
  },
  {
   "cell_type": "code",
   "execution_count": 11,
   "id": "7f48876c-7713-4eeb-9c51-773d89745a0d",
   "metadata": {},
   "outputs": [],
   "source": [
    "# func for portfolio std with many assets\n",
    "def portfolio_std(weights) :\n",
    "    return (np.dot(np.dot(df.cov() , weights) , np.transpose(weights)) **(0.5) )*np.sqrt(252)"
   ]
  },
  {
   "cell_type": "code",
   "execution_count": 12,
   "id": "59d907af-faa4-4f68-98ff-802777264273",
   "metadata": {},
   "outputs": [
    {
     "data": {
      "text/plain": [
       "0.11868497116638005"
      ]
     },
     "execution_count": 12,
     "metadata": {},
     "output_type": "execute_result"
    }
   ],
   "source": [
    "# portfolio_std for 1 years -> 252 trading days\n",
    "portfolio_std(weights)"
   ]
  },
  {
   "cell_type": "code",
   "execution_count": 13,
   "id": "ad465d05-9e28-4647-b309-e6d72f15edec",
   "metadata": {},
   "outputs": [],
   "source": [
    "# func for random portolio weights\n",
    "def weights_random(df) :\n",
    "    rand = np.random.random(len(df.columns))\n",
    "    rand /= rand.sum()\n",
    "    return rand"
   ]
  },
  {
   "cell_type": "code",
   "execution_count": 14,
   "id": "60c20c4c-c59c-4a66-b099-d71dd14d2d89",
   "metadata": {},
   "outputs": [
    {
     "data": {
      "text/plain": [
       "array([0.86691121, 0.13308879])"
      ]
     },
     "execution_count": 14,
     "metadata": {},
     "output_type": "execute_result"
    }
   ],
   "source": [
    "weights_random(df)"
   ]
  },
  {
   "cell_type": "code",
   "execution_count": 15,
   "id": "120ce149-7676-41f2-b2d5-9d62e35c73fb",
   "metadata": {},
   "outputs": [
    {
     "data": {
      "text/plain": [
       "array([0.8238547, 0.1761453])"
      ]
     },
     "execution_count": 15,
     "metadata": {},
     "output_type": "execute_result"
    }
   ],
   "source": [
    "weights_random(df)"
   ]
  },
  {
   "cell_type": "code",
   "execution_count": 16,
   "id": "2a7f3aef-5f31-4235-827a-a00dec984c0f",
   "metadata": {},
   "outputs": [],
   "source": [
    "returns = []\n",
    "stds = []\n",
    "w = []\n",
    "sharpeRatio =[]\n",
    "#assume risk free rate = 0    sharp-ratio = (expected return - riskfreerate) / Standard deviation\n",
    "for i in range(500) :\n",
    "    weights = weights_random(df)\n",
    "    returns.append(portfolio_return(weights))\n",
    "    stds.append(portfolio_std(weights))\n",
    "    w.append(weights)\n",
    "    sharpeRatio.append(returns[i]/stds[i])\n",
    "    "
   ]
  },
  {
   "cell_type": "code",
   "execution_count": 17,
   "id": "0e0d1e2a-ff2a-4b6d-b931-0c6ab4b2b439",
   "metadata": {},
   "outputs": [
    {
     "data": {
      "text/plain": [
       "0.0028489011819579097"
      ]
     },
     "execution_count": 17,
     "metadata": {},
     "output_type": "execute_result"
    }
   ],
   "source": [
    "max(sharpeRatio)"
   ]
  },
  {
   "cell_type": "code",
   "execution_count": 18,
   "id": "9e2d4682-7b89-4a69-a552-5c5baad04bfd",
   "metadata": {},
   "outputs": [
    {
     "data": {
      "text/plain": [
       "278"
      ]
     },
     "execution_count": 18,
     "metadata": {},
     "output_type": "execute_result"
    }
   ],
   "source": [
    "np.argmax(sharpeRatio)"
   ]
  },
  {
   "cell_type": "code",
   "execution_count": 19,
   "id": "739b660a-7e20-4a27-a88c-a925ebf0d8ff",
   "metadata": {},
   "outputs": [
    {
     "data": {
      "text/plain": [
       "array([0.16847451, 0.83152549])"
      ]
     },
     "execution_count": 19,
     "metadata": {},
     "output_type": "execute_result"
    }
   ],
   "source": [
    "# Weights of assets that achieve the maximum Sharpe ratio\n",
    "w[np.argmax(sharpeRatio)]"
   ]
  },
  {
   "cell_type": "code",
   "execution_count": 20,
   "id": "8889b207-9731-4aaa-a87f-c901f3c09179",
   "metadata": {},
   "outputs": [
    {
     "data": {
      "text/plain": [
       "0.11777349114405807"
      ]
     },
     "execution_count": 20,
     "metadata": {},
     "output_type": "execute_result"
    }
   ],
   "source": [
    "# minimum variance portfolio\n",
    "min(stds)"
   ]
  },
  {
   "cell_type": "code",
   "execution_count": 21,
   "id": "8eaadf04-66fe-4f91-9d41-d2de66128345",
   "metadata": {},
   "outputs": [
    {
     "data": {
      "text/plain": [
       "71"
      ]
     },
     "execution_count": 21,
     "metadata": {},
     "output_type": "execute_result"
    }
   ],
   "source": [
    "stds.index(min(stds))"
   ]
  },
  {
   "cell_type": "code",
   "execution_count": 22,
   "id": "9cda6db9-fc7d-4acf-a1a9-c61c65829fc6",
   "metadata": {},
   "outputs": [
    {
     "data": {
      "text/plain": [
       "0.00026525381538408085"
      ]
     },
     "execution_count": 22,
     "metadata": {},
     "output_type": "execute_result"
    }
   ],
   "source": [
    "returns[stds.index(min(stds))]"
   ]
  },
  {
   "cell_type": "code",
   "execution_count": 23,
   "id": "8081f4dd-81ff-4a54-b19f-19be58ac85ab",
   "metadata": {},
   "outputs": [
    {
     "data": {
      "text/plain": [
       "array([0.56424207, 0.43575793])"
      ]
     },
     "execution_count": 23,
     "metadata": {},
     "output_type": "execute_result"
    }
   ],
   "source": [
    "# Weights of assets that achieve the minimum variance portfolio\n",
    "w[np.argmin(stds)]"
   ]
  },
  {
   "cell_type": "code",
   "execution_count": 24,
   "id": "7c16ee72-a92a-4168-8bbf-a67b5ed199ea",
   "metadata": {},
   "outputs": [
    {
     "data": {
      "text/plain": [
       "<matplotlib.legend.Legend at 0x1b012071bd0>"
      ]
     },
     "execution_count": 24,
     "metadata": {},
     "output_type": "execute_result"
    },
    {
     "data": {
      "image/png": "[encoded data removed]",
      "text/plain": [
       "<Figure size 800x600 with 2 Axes>"
      ]
     },
     "metadata": {},
     "output_type": "display_data"
    }
   ],
   "source": [
    "plt.figure(figsize = (8,6))\n",
    "scatters = plt.scatter(stds,returns,c=sharpeRatio, cmap='plasma')\n",
    "\n",
    "plt.scatter(df.std().iloc[0]*np.sqrt(252) , df.mean().iloc[0] , c = 'b', marker='*', s=200, label='100% asset A')\n",
    "plt.scatter(df.std().iloc[1]*np.sqrt(252) , df.mean().iloc[1] , c = 'g', marker='*', s=200, label='100% asset B')\n",
    "plt.axvline(x=df.std().iloc[0]*np.sqrt(252), linestyle='--', color='r')\n",
    "\n",
    "plt.scatter(min(stds) , returns[stds.index(min(stds))] , c = 'y', marker='*', s=200, label='minimum variance portfolio' )\n",
    "plt.scatter(stds[np.argmax(sharpeRatio)],returns[np.argmax(sharpeRatio)], c = 'r', marker='*', s=300, label='the maximum Sharpe ratio')\n",
    "\n",
    "\n",
    "plt.xlabel('portfolio_std  (Risk)')\n",
    "plt.ylabel('portfolio_return')\n",
    "plt.title('Efficient_frontier')\n",
    "plt.colorbar(scatters, label='sharpeRatio')\n",
    "plt.legend()"
   ]
  },
  {
   "cell_type": "code",
   "execution_count": null,
   "id": "98582359-24f7-4780-a375-339c998cb167",
   "metadata": {},
   "outputs": [],
   "source": []
  }
 ],
 "metadata": {
  "kernelspec": {
   "display_name": "Python 3 (ipykernel)",
   "language": "python",
   "name": "python3"
  },
  "language_info": {
   "codemirror_mode": {
    "name": "ipython",
    "version": 3
   },
   "file_extension": ".py",
   "mimetype": "text/x-python",
   "name": "python",
   "nbconvert_exporter": "python",
   "pygments_lexer": "ipython3",
   "version": "3.11.7"
  }
 },
 "nbformat": 4,
 "nbformat_minor": 5
}
