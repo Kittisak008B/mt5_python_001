{
 "cells": [
  {
   "cell_type": "code",
   "execution_count": 1,
   "id": "9301651a-d9d2-45bf-8286-77dcc5eca370",
   "metadata": {},
   "outputs": [
    {
     "name": "stderr",
     "output_type": "stream",
     "text": [
      "[*********************100%%**********************]  1 of 1 completed\n",
      "[*********************100%%**********************]  1 of 1 completed\n",
      "[*********************100%%**********************]  1 of 1 completed\n",
      "[*********************100%%**********************]  1 of 1 completed\n"
     ]
    },
    {
     "data": {
      "text/html": [
       "<div>\n",
       "<style scoped>\n",
       "    .dataframe tbody tr th:only-of-type {\n",
       "        vertical-align: middle;\n",
       "    }\n",
       "\n",
       "    .dataframe tbody tr th {\n",
       "        vertical-align: top;\n",
       "    }\n",
       "\n",
       "    .dataframe thead th {\n",
       "        text-align: right;\n",
       "    }\n",
       "</style>\n",
       "<table border=\"1\" class=\"dataframe\">\n",
       "  <thead>\n",
       "    <tr style=\"text-align: right;\">\n",
       "      <th></th>\n",
       "      <th>SPY</th>\n",
       "      <th>BND</th>\n",
       "      <th>GLD</th>\n",
       "      <th>SCHD</th>\n",
       "    </tr>\n",
       "    <tr>\n",
       "      <th>Date</th>\n",
       "      <th></th>\n",
       "      <th></th>\n",
       "      <th></th>\n",
       "      <th></th>\n",
       "    </tr>\n",
       "  </thead>\n",
       "  <tbody>\n",
       "    <tr>\n",
       "      <th>2011-10-21</th>\n",
       "      <td>0.018809</td>\n",
       "      <td>-0.001563</td>\n",
       "      <td>0.011031</td>\n",
       "      <td>0.019426</td>\n",
       "    </tr>\n",
       "    <tr>\n",
       "      <th>2011-10-24</th>\n",
       "      <td>0.012186</td>\n",
       "      <td>0.000722</td>\n",
       "      <td>0.009359</td>\n",
       "      <td>0.005482</td>\n",
       "    </tr>\n",
       "    <tr>\n",
       "      <th>2011-10-25</th>\n",
       "      <td>-0.019636</td>\n",
       "      <td>0.005157</td>\n",
       "      <td>0.027986</td>\n",
       "      <td>-0.016535</td>\n",
       "    </tr>\n",
       "    <tr>\n",
       "      <th>2011-10-26</th>\n",
       "      <td>0.010108</td>\n",
       "      <td>-0.002516</td>\n",
       "      <td>0.010871</td>\n",
       "      <td>0.010268</td>\n",
       "    </tr>\n",
       "    <tr>\n",
       "      <th>2011-10-27</th>\n",
       "      <td>0.034242</td>\n",
       "      <td>-0.005170</td>\n",
       "      <td>0.012762</td>\n",
       "      <td>0.022534</td>\n",
       "    </tr>\n",
       "    <tr>\n",
       "      <th>...</th>\n",
       "      <td>...</td>\n",
       "      <td>...</td>\n",
       "      <td>...</td>\n",
       "      <td>...</td>\n",
       "    </tr>\n",
       "    <tr>\n",
       "      <th>2024-02-12</th>\n",
       "      <td>-0.000439</td>\n",
       "      <td>0.000276</td>\n",
       "      <td>-0.002615</td>\n",
       "      <td>0.006102</td>\n",
       "    </tr>\n",
       "    <tr>\n",
       "      <th>2024-02-13</th>\n",
       "      <td>-0.013869</td>\n",
       "      <td>-0.008741</td>\n",
       "      <td>-0.013885</td>\n",
       "      <td>-0.015391</td>\n",
       "    </tr>\n",
       "    <tr>\n",
       "      <th>2024-02-14</th>\n",
       "      <td>0.009047</td>\n",
       "      <td>0.003755</td>\n",
       "      <td>-0.000596</td>\n",
       "      <td>0.003935</td>\n",
       "    </tr>\n",
       "    <tr>\n",
       "      <th>2024-02-15</th>\n",
       "      <td>0.006876</td>\n",
       "      <td>0.002773</td>\n",
       "      <td>0.006701</td>\n",
       "      <td>0.011197</td>\n",
       "    </tr>\n",
       "    <tr>\n",
       "      <th>2024-02-16</th>\n",
       "      <td>-0.004992</td>\n",
       "      <td>-0.003189</td>\n",
       "      <td>0.003656</td>\n",
       "      <td>-0.003372</td>\n",
       "    </tr>\n",
       "  </tbody>\n",
       "</table>\n",
       "<p>3100 rows × 4 columns</p>\n",
       "</div>"
      ],
      "text/plain": [
       "                 SPY       BND       GLD      SCHD\n",
       "Date                                              \n",
       "2011-10-21  0.018809 -0.001563  0.011031  0.019426\n",
       "2011-10-24  0.012186  0.000722  0.009359  0.005482\n",
       "2011-10-25 -0.019636  0.005157  0.027986 -0.016535\n",
       "2011-10-26  0.010108 -0.002516  0.010871  0.010268\n",
       "2011-10-27  0.034242 -0.005170  0.012762  0.022534\n",
       "...              ...       ...       ...       ...\n",
       "2024-02-12 -0.000439  0.000276 -0.002615  0.006102\n",
       "2024-02-13 -0.013869 -0.008741 -0.013885 -0.015391\n",
       "2024-02-14  0.009047  0.003755 -0.000596  0.003935\n",
       "2024-02-15  0.006876  0.002773  0.006701  0.011197\n",
       "2024-02-16 -0.004992 -0.003189  0.003656 -0.003372\n",
       "\n",
       "[3100 rows x 4 columns]"
      ]
     },
     "execution_count": 1,
     "metadata": {},
     "output_type": "execute_result"
    }
   ],
   "source": [
    "# VaR using Historical Method \n",
    "\n",
    "import numpy as np\n",
    "import pandas as pd\n",
    "import datetime as dt\n",
    "import yfinance as yf\n",
    "import matplotlib.pyplot as plt\n",
    "%matplotlib inline\n",
    "\n",
    "years = 15\n",
    "\n",
    "endDate = dt.datetime.now()\n",
    "startDate = endDate - dt.timedelta(days=365*years)\n",
    "\n",
    "tickers = ['SPY', 'BND', 'GLD', 'SCHD']\n",
    "\n",
    "adj_close_df = pd.DataFrame()\n",
    "for ticker in tickers:\n",
    "    data = yf.download(ticker, start=startDate, end=endDate)\n",
    "    adj_close_df[ticker] = data['Adj Close']\n",
    "\n",
    "log_returns = np.log(adj_close_df / adj_close_df.shift(1))\n",
    "log_returns = log_returns.dropna()\n",
    "log_returns"
   ]
  },
  {
   "cell_type": "code",
   "execution_count": 2,
   "id": "0f2301e4-e3d6-45db-833d-19e304c84ffc",
   "metadata": {},
   "outputs": [
    {
     "data": {
      "text/plain": [
       "array([0.25, 0.25, 0.25, 0.25])"
      ]
     },
     "execution_count": 2,
     "metadata": {},
     "output_type": "execute_result"
    }
   ],
   "source": [
    "portfolio_value = 100\n",
    "weights = np.array([1/len(tickers)] * len(tickers))\n",
    "weights"
   ]
  },
  {
   "cell_type": "code",
   "execution_count": 3,
   "id": "e6f047f6-b173-4523-8c78-03502b14cc34",
   "metadata": {},
   "outputs": [
    {
     "data": {
      "text/plain": [
       "Date\n",
       "2011-10-21    0.011926\n",
       "2011-10-24    0.006937\n",
       "2011-10-25   -0.000757\n",
       "2011-10-26    0.007183\n",
       "2011-10-27    0.016092\n",
       "                ...   \n",
       "2024-02-12    0.000831\n",
       "2024-02-13   -0.012971\n",
       "2024-02-14    0.004035\n",
       "2024-02-15    0.006887\n",
       "2024-02-16   -0.001974\n",
       "Length: 3100, dtype: float64"
      ]
     },
     "execution_count": 3,
     "metadata": {},
     "output_type": "execute_result"
    }
   ],
   "source": [
    "historical_returns = (log_returns * weights).sum(axis=1)\n",
    "historical_returns"
   ]
  },
  {
   "cell_type": "code",
   "execution_count": 4,
   "id": "be47cdac-d4a5-4d07-bd12-5b26fb23bcc4",
   "metadata": {},
   "outputs": [
    {
     "data": {
      "text/plain": [
       "Date\n",
       "2011-10-27    0.041381\n",
       "2011-10-28    0.030210\n",
       "2011-10-31    0.009948\n",
       "2011-11-01   -0.000207\n",
       "2011-11-02    0.002291\n",
       "                ...   \n",
       "2024-02-12    0.006389\n",
       "2024-02-13   -0.010989\n",
       "2024-02-14   -0.008873\n",
       "2024-02-15   -0.001866\n",
       "2024-02-16   -0.003193\n",
       "Length: 3096, dtype: float64"
      ]
     },
     "execution_count": 4,
     "metadata": {},
     "output_type": "execute_result"
    }
   ],
   "source": [
    "days = 5\n",
    "range_returns = historical_returns.rolling(window=days).sum().dropna()\n",
    "range_returns"
   ]
  },
  {
   "cell_type": "code",
   "execution_count": 5,
   "id": "fd813e72-cb78-4afc-b1b8-7c16690abfb2",
   "metadata": {},
   "outputs": [
    {
     "data": {
      "text/plain": [
       "array([-0.13599926, -0.10152115, -0.09275872, ...,  0.07955491,\n",
       "        0.08328461,  0.09669824])"
      ]
     },
     "execution_count": 5,
     "metadata": {},
     "output_type": "execute_result"
    }
   ],
   "source": [
    "sorted_returns = np.sort(range_returns)\n",
    "sorted_returns"
   ]
  },
  {
   "cell_type": "code",
   "execution_count": 6,
   "id": "bce889f6-15a5-4097-bd2d-fa73ed7b3e17",
   "metadata": {},
   "outputs": [
    {
     "data": {
      "text/plain": [
       "[-1.2214456744580735, -1.8089623941013524, -3.7255245667842924]"
      ]
     },
     "execution_count": 6,
     "metadata": {},
     "output_type": "execute_result"
    }
   ],
   "source": [
    "confidence_levels = [0.90, 0.95, 0.99]\n",
    "VaRs = []\n",
    "for cl in confidence_levels:\n",
    "    VaR = np.percentile(sorted_returns, 100 - (cl * 100))*portfolio_value\n",
    "    VaRs.append(VaR)\n",
    "VaRs"
   ]
  },
  {
   "cell_type": "code",
   "execution_count": 7,
   "id": "442b7454-49db-460d-bcc0-f93b7b6687f1",
   "metadata": {},
   "outputs": [
    {
     "name": "stdout",
     "output_type": "stream",
     "text": [
      "Confidence Level     Value at Risk       \n",
      "----------------------------------------\n",
      "    90%:          $    -1.221\n",
      "    95%:          $    -1.809\n",
      "    99%:          $    -3.726\n"
     ]
    }
   ],
   "source": [
    "print(f'{\"Confidence Level\":<20} {\"Value at Risk\":<20}')\n",
    "print('-' * 40)\n",
    "\n",
    "for cl, VaR in zip(confidence_levels, VaRs):\n",
    "    print(f'{cl * 100:>6.0f}%: {\"\":<8} ${VaR:>10,.3f}')"
   ]
  },
  {
   "cell_type": "code",
   "execution_count": 8,
   "id": "81adf8dd-7e8a-4005-86b9-00a8922b4782",
   "metadata": {},
   "outputs": [
    {
     "data": {
      "text/plain": [
       "<matplotlib.legend.Legend at 0x1d719590490>"
      ]
     },
     "execution_count": 8,
     "metadata": {},
     "output_type": "execute_result"
    },
    {
     "data": {
      "image/png": "[encoded data removed]",
      "text/plain": [
       "<Figure size 640x480 with 1 Axes>"
      ]
     },
     "metadata": {},
     "output_type": "display_data"
    }
   ],
   "source": [
    "plt.hist(sorted_returns* portfolio_value, bins=50, alpha=0.5, label=f'{days}-Day Returns')\n",
    "plt.xlabel(f'{days}-Day Portfolio Return ($)')\n",
    "plt.ylabel('Frequency')\n",
    "plt.title(f'Distribution of Portfolio {days}-Day Returns and VaR using Historical Method ')\n",
    "for cl, VaR in zip(confidence_levels, VaRs):\n",
    "    plt.axvline(x=VaR, linestyle='--', color='r', label='VaR at {}% Confidence'.format(int(cl * 100)))\n",
    "plt.legend()"
   ]
  }
 ],
 "metadata": {
  "kernelspec": {
   "display_name": "Python 3 (ipykernel)",
   "language": "python",
   "name": "python3"
  },
  "language_info": {
   "codemirror_mode": {
    "name": "ipython",
    "version": 3
   },
   "file_extension": ".py",
   "mimetype": "text/x-python",
   "name": "python",
   "nbconvert_exporter": "python",
   "pygments_lexer": "ipython3",
   "version": "3.11.7"
  }
 },
 "nbformat": 4,
 "nbformat_minor": 5
}
