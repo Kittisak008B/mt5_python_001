{
 "cells": [
  {
   "cell_type": "code",
   "execution_count": 1,
   "id": "01df7880-051d-4c98-a5a8-79a445f36b38",
   "metadata": {},
   "outputs": [
    {
     "name": "stderr",
     "output_type": "stream",
     "text": [
      "[*********************100%%**********************]  1 of 1 completed\n",
      "[*********************100%%**********************]  1 of 1 completed\n",
      "[*********************100%%**********************]  1 of 1 completed\n",
      "[*********************100%%**********************]  1 of 1 completed\n"
     ]
    },
    {
     "data": {
      "text/html": [
       "<div>\n",
       "<style scoped>\n",
       "    .dataframe tbody tr th:only-of-type {\n",
       "        vertical-align: middle;\n",
       "    }\n",
       "\n",
       "    .dataframe tbody tr th {\n",
       "        vertical-align: top;\n",
       "    }\n",
       "\n",
       "    .dataframe thead th {\n",
       "        text-align: right;\n",
       "    }\n",
       "</style>\n",
       "<table border=\"1\" class=\"dataframe\">\n",
       "  <thead>\n",
       "    <tr style=\"text-align: right;\">\n",
       "      <th></th>\n",
       "      <th>SPY</th>\n",
       "      <th>BND</th>\n",
       "      <th>GLD</th>\n",
       "      <th>SCHD</th>\n",
       "    </tr>\n",
       "    <tr>\n",
       "      <th>Date</th>\n",
       "      <th></th>\n",
       "      <th></th>\n",
       "      <th></th>\n",
       "      <th></th>\n",
       "    </tr>\n",
       "  </thead>\n",
       "  <tbody>\n",
       "    <tr>\n",
       "      <th>2011-10-21</th>\n",
       "      <td>0.018809</td>\n",
       "      <td>-0.001563</td>\n",
       "      <td>0.011031</td>\n",
       "      <td>0.019426</td>\n",
       "    </tr>\n",
       "    <tr>\n",
       "      <th>2011-10-24</th>\n",
       "      <td>0.012186</td>\n",
       "      <td>0.000722</td>\n",
       "      <td>0.009359</td>\n",
       "      <td>0.005482</td>\n",
       "    </tr>\n",
       "    <tr>\n",
       "      <th>2011-10-25</th>\n",
       "      <td>-0.019635</td>\n",
       "      <td>0.005157</td>\n",
       "      <td>0.027986</td>\n",
       "      <td>-0.016536</td>\n",
       "    </tr>\n",
       "    <tr>\n",
       "      <th>2011-10-26</th>\n",
       "      <td>0.010107</td>\n",
       "      <td>-0.002516</td>\n",
       "      <td>0.010871</td>\n",
       "      <td>0.010269</td>\n",
       "    </tr>\n",
       "    <tr>\n",
       "      <th>2011-10-27</th>\n",
       "      <td>0.034242</td>\n",
       "      <td>-0.005170</td>\n",
       "      <td>0.012762</td>\n",
       "      <td>0.022534</td>\n",
       "    </tr>\n",
       "    <tr>\n",
       "      <th>...</th>\n",
       "      <td>...</td>\n",
       "      <td>...</td>\n",
       "      <td>...</td>\n",
       "      <td>...</td>\n",
       "    </tr>\n",
       "    <tr>\n",
       "      <th>2024-02-12</th>\n",
       "      <td>-0.000439</td>\n",
       "      <td>0.000276</td>\n",
       "      <td>-0.002615</td>\n",
       "      <td>0.006102</td>\n",
       "    </tr>\n",
       "    <tr>\n",
       "      <th>2024-02-13</th>\n",
       "      <td>-0.013869</td>\n",
       "      <td>-0.008741</td>\n",
       "      <td>-0.013885</td>\n",
       "      <td>-0.015391</td>\n",
       "    </tr>\n",
       "    <tr>\n",
       "      <th>2024-02-14</th>\n",
       "      <td>0.009047</td>\n",
       "      <td>0.003755</td>\n",
       "      <td>-0.000596</td>\n",
       "      <td>0.003935</td>\n",
       "    </tr>\n",
       "    <tr>\n",
       "      <th>2024-02-15</th>\n",
       "      <td>0.006876</td>\n",
       "      <td>0.002773</td>\n",
       "      <td>0.006701</td>\n",
       "      <td>0.011197</td>\n",
       "    </tr>\n",
       "    <tr>\n",
       "      <th>2024-02-16</th>\n",
       "      <td>-0.004992</td>\n",
       "      <td>-0.003189</td>\n",
       "      <td>0.003656</td>\n",
       "      <td>-0.003372</td>\n",
       "    </tr>\n",
       "  </tbody>\n",
       "</table>\n",
       "<p>3100 rows × 4 columns</p>\n",
       "</div>"
      ],
      "text/plain": [
       "                 SPY       BND       GLD      SCHD\n",
       "Date                                              \n",
       "2011-10-21  0.018809 -0.001563  0.011031  0.019426\n",
       "2011-10-24  0.012186  0.000722  0.009359  0.005482\n",
       "2011-10-25 -0.019635  0.005157  0.027986 -0.016536\n",
       "2011-10-26  0.010107 -0.002516  0.010871  0.010269\n",
       "2011-10-27  0.034242 -0.005170  0.012762  0.022534\n",
       "...              ...       ...       ...       ...\n",
       "2024-02-12 -0.000439  0.000276 -0.002615  0.006102\n",
       "2024-02-13 -0.013869 -0.008741 -0.013885 -0.015391\n",
       "2024-02-14  0.009047  0.003755 -0.000596  0.003935\n",
       "2024-02-15  0.006876  0.002773  0.006701  0.011197\n",
       "2024-02-16 -0.004992 -0.003189  0.003656 -0.003372\n",
       "\n",
       "[3100 rows x 4 columns]"
      ]
     },
     "execution_count": 1,
     "metadata": {},
     "output_type": "execute_result"
    }
   ],
   "source": [
    "#Parametric Method  ( Normal Distribution)\n",
    "\n",
    "import numpy as np\n",
    "import pandas as pd\n",
    "import datetime as dt\n",
    "import yfinance as yf\n",
    "import matplotlib.pyplot as plt\n",
    "%matplotlib inline\n",
    "\n",
    "years = 15\n",
    "\n",
    "endDate = dt.datetime.now()\n",
    "startDate = endDate - dt.timedelta(days=365*years)\n",
    "\n",
    "tickers = ['SPY', 'BND', 'GLD', 'SCHD']\n",
    "\n",
    "adj_close_df = pd.DataFrame()\n",
    "for ticker in tickers:\n",
    "    data = yf.download(ticker, start=startDate, end=endDate)\n",
    "    adj_close_df[ticker] = data['Adj Close']\n",
    "\n",
    "log_returns = np.log(adj_close_df / adj_close_df.shift(1))\n",
    "log_returns = log_returns.dropna()\n",
    "log_returns"
   ]
  },
  {
   "cell_type": "code",
   "execution_count": 2,
   "id": "bee1a7ea-7919-4c55-ba52-cf4a7edbb70d",
   "metadata": {},
   "outputs": [
    {
     "data": {
      "text/plain": [
       "array([0.25, 0.25, 0.25, 0.25])"
      ]
     },
     "execution_count": 2,
     "metadata": {},
     "output_type": "execute_result"
    }
   ],
   "source": [
    "portfolio_value = 100\n",
    "weights = np.array([1/len(tickers)] * len(tickers))\n",
    "weights"
   ]
  },
  {
   "cell_type": "code",
   "execution_count": 3,
   "id": "19bd2dc3-d9a6-4ade-a57d-54215d57db9a",
   "metadata": {},
   "outputs": [
    {
     "data": {
      "text/plain": [
       "Date\n",
       "2011-10-21    0.011926\n",
       "2011-10-24    0.006937\n",
       "2011-10-25   -0.000757\n",
       "2011-10-26    0.007183\n",
       "2011-10-27    0.016092\n",
       "                ...   \n",
       "2024-02-12    0.000831\n",
       "2024-02-13   -0.012971\n",
       "2024-02-14    0.004035\n",
       "2024-02-15    0.006887\n",
       "2024-02-16   -0.001974\n",
       "Length: 3100, dtype: float64"
      ]
     },
     "execution_count": 3,
     "metadata": {},
     "output_type": "execute_result"
    }
   ],
   "source": [
    "historical_returns = (log_returns * weights).sum(axis=1)\n",
    "historical_returns"
   ]
  },
  {
   "cell_type": "code",
   "execution_count": 4,
   "id": "b546a614-f1bb-4dec-801e-d36fb4875c2d",
   "metadata": {},
   "outputs": [
    {
     "data": {
      "text/plain": [
       "Date\n",
       "2011-10-27    0.041381\n",
       "2011-10-28    0.030211\n",
       "2011-10-31    0.009948\n",
       "2011-11-01   -0.000208\n",
       "2011-11-02    0.002291\n",
       "                ...   \n",
       "2024-02-12    0.006389\n",
       "2024-02-13   -0.010989\n",
       "2024-02-14   -0.008873\n",
       "2024-02-15   -0.001866\n",
       "2024-02-16   -0.003193\n",
       "Length: 3096, dtype: float64"
      ]
     },
     "execution_count": 4,
     "metadata": {},
     "output_type": "execute_result"
    }
   ],
   "source": [
    "days = 5\n",
    "historical_x_day_returns = historical_returns.rolling(window=days).sum().dropna()\n",
    "historical_x_day_returns"
   ]
  },
  {
   "cell_type": "code",
   "execution_count": 5,
   "id": "127cea34-9b0a-4fe3-9770-20af8f58dd60",
   "metadata": {},
   "outputs": [
    {
     "data": {
      "text/html": [
       "<div>\n",
       "<style scoped>\n",
       "    .dataframe tbody tr th:only-of-type {\n",
       "        vertical-align: middle;\n",
       "    }\n",
       "\n",
       "    .dataframe tbody tr th {\n",
       "        vertical-align: top;\n",
       "    }\n",
       "\n",
       "    .dataframe thead th {\n",
       "        text-align: right;\n",
       "    }\n",
       "</style>\n",
       "<table border=\"1\" class=\"dataframe\">\n",
       "  <thead>\n",
       "    <tr style=\"text-align: right;\">\n",
       "      <th></th>\n",
       "      <th>SPY</th>\n",
       "      <th>BND</th>\n",
       "      <th>GLD</th>\n",
       "      <th>SCHD</th>\n",
       "    </tr>\n",
       "  </thead>\n",
       "  <tbody>\n",
       "    <tr>\n",
       "      <th>SPY</th>\n",
       "      <td>0.028594</td>\n",
       "      <td>0.000512</td>\n",
       "      <td>0.001575</td>\n",
       "      <td>0.024702</td>\n",
       "    </tr>\n",
       "    <tr>\n",
       "      <th>BND</th>\n",
       "      <td>0.000512</td>\n",
       "      <td>0.002460</td>\n",
       "      <td>0.002410</td>\n",
       "      <td>0.000300</td>\n",
       "    </tr>\n",
       "    <tr>\n",
       "      <th>GLD</th>\n",
       "      <td>0.001575</td>\n",
       "      <td>0.002410</td>\n",
       "      <td>0.022786</td>\n",
       "      <td>0.001210</td>\n",
       "    </tr>\n",
       "    <tr>\n",
       "      <th>SCHD</th>\n",
       "      <td>0.024702</td>\n",
       "      <td>0.000300</td>\n",
       "      <td>0.001210</td>\n",
       "      <td>0.024909</td>\n",
       "    </tr>\n",
       "  </tbody>\n",
       "</table>\n",
       "</div>"
      ],
      "text/plain": [
       "           SPY       BND       GLD      SCHD\n",
       "SPY   0.028594  0.000512  0.001575  0.024702\n",
       "BND   0.000512  0.002460  0.002410  0.000300\n",
       "GLD   0.001575  0.002410  0.022786  0.001210\n",
       "SCHD  0.024702  0.000300  0.001210  0.024909"
      ]
     },
     "execution_count": 5,
     "metadata": {},
     "output_type": "execute_result"
    }
   ],
   "source": [
    "cov_matrix = log_returns.cov() * 252\n",
    "cov_matrix"
   ]
  },
  {
   "cell_type": "code",
   "execution_count": 6,
   "id": "91ba3414-3b6a-4684-8f7e-2cb7e0b5c703",
   "metadata": {},
   "outputs": [
    {
     "data": {
      "text/plain": [
       "0.09359777296674823"
      ]
     },
     "execution_count": 6,
     "metadata": {},
     "output_type": "execute_result"
    }
   ],
   "source": [
    "portfolio_std_dev = np.sqrt(weights.T @ cov_matrix @ weights)\n",
    "portfolio_std_dev"
   ]
  },
  {
   "cell_type": "code",
   "execution_count": 7,
   "id": "e0c8e5a1-e317-4f98-8c87-b18741c4d64e",
   "metadata": {},
   "outputs": [
    {
     "data": {
      "text/plain": [
       "[-1.8305770807756871, -2.309557885472455, -3.20804621665072]"
      ]
     },
     "execution_count": 7,
     "metadata": {},
     "output_type": "execute_result"
    }
   ],
   "source": [
    "from scipy.stats import norm\n",
    "\n",
    "confidence_levels = [0.90, 0.95, 0.99]\n",
    "\n",
    "VaRs = []\n",
    "for cl in confidence_levels:\n",
    "    VaR = portfolio_value * (norm.ppf(1 - cl) * portfolio_std_dev * np.sqrt(days / 252) - historical_returns.mean() * days)\n",
    "    VaRs.append(VaR)\n",
    "VaRs"
   ]
  },
  {
   "cell_type": "code",
   "execution_count": 8,
   "id": "9784f61f-1a7f-402d-8a75-9c46b417403f",
   "metadata": {},
   "outputs": [
    {
     "name": "stdout",
     "output_type": "stream",
     "text": [
      "Confidence Level     Value at Risk       \n",
      "----------------------------------------\n",
      "    90%:          $    -1.831\n",
      "    95%:          $    -2.310\n",
      "    99%:          $    -3.208\n"
     ]
    }
   ],
   "source": [
    "print(f'{\"Confidence Level\":<20} {\"Value at Risk\":<20}')\n",
    "print('-' * 40)\n",
    "\n",
    "for cl, VaR in zip(confidence_levels, VaRs):\n",
    "    print(f'{cl * 100:>6.0f}%: {\"\":<8} ${VaR:>10,.3f}')"
   ]
  },
  {
   "cell_type": "code",
   "execution_count": 9,
   "id": "1a7c15f9-258a-4f09-b256-f55ed07c5c6c",
   "metadata": {},
   "outputs": [
    {
     "data": {
      "text/plain": [
       "<matplotlib.legend.Legend at 0x20055c3a650>"
      ]
     },
     "execution_count": 9,
     "metadata": {},
     "output_type": "execute_result"
    },
    {
     "data": {
      "image/png": "[encoded data removed]",
      "text/plain": [
       "<Figure size 640x480 with 1 Axes>"
      ]
     },
     "metadata": {},
     "output_type": "display_data"
    }
   ],
   "source": [
    "# Plot the histogram\n",
    "plt.hist(historical_x_day_returns * portfolio_value, bins=50, density=True, alpha=0.5, label=f'{days}-Day Returns')\n",
    "\n",
    "for cl, VaR in zip(confidence_levels, VaRs):\n",
    "    plt.axvline(x=VaR, linestyle='--', color='r', label='VaR at {}% Confidence'.format(int(cl * 100)))\n",
    "\n",
    "plt.xlabel(f'{days}-Day Portfolio Return ($)')\n",
    "plt.ylabel('Probability Density')\n",
    "plt.title(f'Distribution of Portfolio {days}-Day Returns and Parametric VaR assumes a Gaussian distribution ')\n",
    "plt.legend()"
   ]
  }
 ],
 "metadata": {
  "kernelspec": {
   "display_name": "Python 3 (ipykernel)",
   "language": "python",
   "name": "python3"
  },
  "language_info": {
   "codemirror_mode": {
    "name": "ipython",
    "version": 3
   },
   "file_extension": ".py",
   "mimetype": "text/x-python",
   "name": "python",
   "nbconvert_exporter": "python",
   "pygments_lexer": "ipython3",
   "version": "3.11.7"
  }
 },
 "nbformat": 4,
 "nbformat_minor": 5
}
