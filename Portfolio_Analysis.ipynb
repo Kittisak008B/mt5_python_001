{
 "cells": [
  {
   "cell_type": "code",
   "execution_count": 1,
   "id": "756e225a-ca00-4d47-86c3-b28ea19755ec",
   "metadata": {},
   "outputs": [],
   "source": [
    "import pandas as pd\n",
    "import numpy as np"
   ]
  },
  {
   "cell_type": "code",
   "execution_count": 2,
   "id": "3dc979c3-3f32-4eea-8872-49566c7bd24b",
   "metadata": {},
   "outputs": [
    {
     "data": {
      "text/html": [
       "<div>\n",
       "<style scoped>\n",
       "    .dataframe tbody tr th:only-of-type {\n",
       "        vertical-align: middle;\n",
       "    }\n",
       "\n",
       "    .dataframe tbody tr th {\n",
       "        vertical-align: top;\n",
       "    }\n",
       "\n",
       "    .dataframe thead th {\n",
       "        text-align: right;\n",
       "    }\n",
       "</style>\n",
       "<table border=\"1\" class=\"dataframe\">\n",
       "  <thead>\n",
       "    <tr style=\"text-align: right;\">\n",
       "      <th></th>\n",
       "      <th>A</th>\n",
       "      <th>B</th>\n",
       "    </tr>\n",
       "  </thead>\n",
       "  <tbody>\n",
       "    <tr>\n",
       "      <th>0</th>\n",
       "      <td>1</td>\n",
       "      <td>1</td>\n",
       "    </tr>\n",
       "    <tr>\n",
       "      <th>1</th>\n",
       "      <td>4</td>\n",
       "      <td>7</td>\n",
       "    </tr>\n",
       "    <tr>\n",
       "      <th>2</th>\n",
       "      <td>7</td>\n",
       "      <td>7</td>\n",
       "    </tr>\n",
       "  </tbody>\n",
       "</table>\n",
       "</div>"
      ],
      "text/plain": [
       "   A  B\n",
       "0  1  1\n",
       "1  4  7\n",
       "2  7  7"
      ]
     },
     "execution_count": 2,
     "metadata": {},
     "output_type": "execute_result"
    }
   ],
   "source": [
    "df = pd.DataFrame({'A':[1,4,7], 'B':[1,7,7]})\n",
    "df"
   ]
  },
  {
   "cell_type": "code",
   "execution_count": 3,
   "id": "37de49ae-aa65-49ca-8303-a35257309f9c",
   "metadata": {},
   "outputs": [
    {
     "data": {
      "text/plain": [
       "A    4.0\n",
       "B    5.0\n",
       "dtype: float64"
      ]
     },
     "execution_count": 3,
     "metadata": {},
     "output_type": "execute_result"
    }
   ],
   "source": [
    "df.mean()"
   ]
  },
  {
   "cell_type": "code",
   "execution_count": 4,
   "id": "e04542f4-f202-455c-b32f-58b9eee3e3c1",
   "metadata": {},
   "outputs": [
    {
     "data": {
      "text/plain": [
       "4.5"
      ]
     },
     "execution_count": 4,
     "metadata": {},
     "output_type": "execute_result"
    }
   ],
   "source": [
    "# portfolio expected return   weight*mean\n",
    "0.5*4 + 0.5*5"
   ]
  },
  {
   "cell_type": "markdown",
   "id": "557f35fd-1ed7-4a66-9cd5-ccbe979d7599",
   "metadata": {},
   "source": [
    "$$ \\sigma_p^2 = w_1^2 \\times \\sigma_1^2 + w_2^2 \\times \\sigma_2^2 + 2 \\times w_1 \\times w_2 \\times \\text{covariance} $$\r\n",
    "\n"
   ]
  },
  {
   "cell_type": "code",
   "execution_count": 5,
   "id": "378904d6-5710-4a17-a8ee-27792e2403ac",
   "metadata": {},
   "outputs": [
    {
     "data": {
      "text/html": [
       "<div>\n",
       "<style scoped>\n",
       "    .dataframe tbody tr th:only-of-type {\n",
       "        vertical-align: middle;\n",
       "    }\n",
       "\n",
       "    .dataframe tbody tr th {\n",
       "        vertical-align: top;\n",
       "    }\n",
       "\n",
       "    .dataframe thead th {\n",
       "        text-align: right;\n",
       "    }\n",
       "</style>\n",
       "<table border=\"1\" class=\"dataframe\">\n",
       "  <thead>\n",
       "    <tr style=\"text-align: right;\">\n",
       "      <th></th>\n",
       "      <th>A</th>\n",
       "      <th>B</th>\n",
       "    </tr>\n",
       "  </thead>\n",
       "  <tbody>\n",
       "    <tr>\n",
       "      <th>A</th>\n",
       "      <td>9.0</td>\n",
       "      <td>9.0</td>\n",
       "    </tr>\n",
       "    <tr>\n",
       "      <th>B</th>\n",
       "      <td>9.0</td>\n",
       "      <td>12.0</td>\n",
       "    </tr>\n",
       "  </tbody>\n",
       "</table>\n",
       "</div>"
      ],
      "text/plain": [
       "     A     B\n",
       "A  9.0   9.0\n",
       "B  9.0  12.0"
      ]
     },
     "execution_count": 5,
     "metadata": {},
     "output_type": "execute_result"
    }
   ],
   "source": [
    "df.cov()"
   ]
  },
  {
   "cell_type": "code",
   "execution_count": 6,
   "id": "48b7e5b6-c5c4-45cc-95ac-40078f8fde87",
   "metadata": {},
   "outputs": [
    {
     "data": {
      "text/plain": [
       "9.75"
      ]
     },
     "execution_count": 6,
     "metadata": {},
     "output_type": "execute_result"
    }
   ],
   "source": [
    "port_var = (0.5**2 *9.0) + (0.5**2 *12.0) + 2*0.5*0.5*9.0\n",
    "port_var"
   ]
  },
  {
   "cell_type": "code",
   "execution_count": 7,
   "id": "dd398dd3-36a5-41f0-b6a4-4eddcf6efcc8",
   "metadata": {},
   "outputs": [
    {
     "data": {
      "text/plain": [
       "3.122498999199199"
      ]
     },
     "execution_count": 7,
     "metadata": {},
     "output_type": "execute_result"
    }
   ],
   "source": [
    "# portfolio std\n",
    "port_var**0.5"
   ]
  },
  {
   "cell_type": "markdown",
   "id": "b537d467-0bc2-43bf-876e-f918125f5333",
   "metadata": {},
   "source": [
    "$$ \\sigma_p^2 = \\mathbf{w}^T \\Sigma \\mathbf{w} $$\r\n"
   ]
  },
  {
   "cell_type": "code",
   "execution_count": 8,
   "id": "032ac9cd-a3cf-4111-97e5-d54bb36fd5f1",
   "metadata": {},
   "outputs": [],
   "source": [
    "# Dot Product portfolio variance\n",
    "# w is the weight vector of the portfolio.\n",
    "# Σ is the variance-covariance matrix.   "
   ]
  },
  {
   "attachments": {
    "956c7bd7-f26a-4af9-b744-3bebdda6e0a9.png": {
     "image/png": "[encoded data removed]"
    }
   },
   "cell_type": "markdown",
   "id": "675b00df-45c3-40b4-9cc5-56b7124af36a",
   "metadata": {},
   "source": [
    "![image.png](attachment:956c7bd7-f26a-4af9-b744-3bebdda6e0a9.png)"
   ]
  },
  {
   "cell_type": "code",
   "execution_count": 9,
   "id": "3dd570ee-b692-4374-8a12-9b1d04719760",
   "metadata": {},
   "outputs": [
    {
     "data": {
      "text/plain": [
       "array([0.5, 0.5])"
      ]
     },
     "execution_count": 9,
     "metadata": {},
     "output_type": "execute_result"
    }
   ],
   "source": [
    "w = np.ones(len(df.columns)) / len(df.columns)\n",
    "w"
   ]
  },
  {
   "cell_type": "code",
   "execution_count": 10,
   "id": "a495db38-cbb3-4274-bd0b-6b16cd38ffa4",
   "metadata": {},
   "outputs": [
    {
     "data": {
      "text/plain": [
       "9.75"
      ]
     },
     "execution_count": 10,
     "metadata": {},
     "output_type": "execute_result"
    }
   ],
   "source": [
    "# portfolio var\n",
    "w.dot(np.transpose(w).dot(df.cov()))"
   ]
  },
  {
   "cell_type": "code",
   "execution_count": 11,
   "id": "b57e9571-bcda-4178-abbc-457321dba092",
   "metadata": {},
   "outputs": [
    {
     "data": {
      "text/plain": [
       "3.122498999199199"
      ]
     },
     "execution_count": 11,
     "metadata": {},
     "output_type": "execute_result"
    }
   ],
   "source": [
    "# portfolio std\n",
    "w.dot(np.transpose(w).dot(df.cov())) **0.5"
   ]
  },
  {
   "cell_type": "code",
   "execution_count": 12,
   "id": "47811db0-dcce-438f-a248-17c550b04209",
   "metadata": {},
   "outputs": [
    {
     "name": "stderr",
     "output_type": "stream",
     "text": [
      "[*********************100%%**********************]  3 of 3 completed\n"
     ]
    },
    {
     "data": {
      "text/html": [
       "<div>\n",
       "<style scoped>\n",
       "    .dataframe tbody tr th:only-of-type {\n",
       "        vertical-align: middle;\n",
       "    }\n",
       "\n",
       "    .dataframe tbody tr th {\n",
       "        vertical-align: top;\n",
       "    }\n",
       "\n",
       "    .dataframe thead th {\n",
       "        text-align: right;\n",
       "    }\n",
       "</style>\n",
       "<table border=\"1\" class=\"dataframe\">\n",
       "  <thead>\n",
       "    <tr style=\"text-align: right;\">\n",
       "      <th>Ticker</th>\n",
       "      <th>AAPL</th>\n",
       "      <th>IBKR</th>\n",
       "      <th>KO</th>\n",
       "    </tr>\n",
       "    <tr>\n",
       "      <th>Date</th>\n",
       "      <th></th>\n",
       "      <th></th>\n",
       "      <th></th>\n",
       "    </tr>\n",
       "  </thead>\n",
       "  <tbody>\n",
       "    <tr>\n",
       "      <th>2015-01-02</th>\n",
       "      <td>24.435268</td>\n",
       "      <td>27.104450</td>\n",
       "      <td>31.347849</td>\n",
       "    </tr>\n",
       "    <tr>\n",
       "      <th>2015-01-05</th>\n",
       "      <td>23.746887</td>\n",
       "      <td>26.964394</td>\n",
       "      <td>31.347849</td>\n",
       "    </tr>\n",
       "    <tr>\n",
       "      <th>2015-01-06</th>\n",
       "      <td>23.749125</td>\n",
       "      <td>26.796337</td>\n",
       "      <td>31.585886</td>\n",
       "    </tr>\n",
       "    <tr>\n",
       "      <th>2015-01-07</th>\n",
       "      <td>24.082132</td>\n",
       "      <td>26.908379</td>\n",
       "      <td>31.980150</td>\n",
       "    </tr>\n",
       "    <tr>\n",
       "      <th>2015-01-08</th>\n",
       "      <td>25.007429</td>\n",
       "      <td>27.655315</td>\n",
       "      <td>32.366978</td>\n",
       "    </tr>\n",
       "    <tr>\n",
       "      <th>...</th>\n",
       "      <td>...</td>\n",
       "      <td>...</td>\n",
       "      <td>...</td>\n",
       "    </tr>\n",
       "    <tr>\n",
       "      <th>2024-03-11</th>\n",
       "      <td>172.750000</td>\n",
       "      <td>107.730003</td>\n",
       "      <td>59.761982</td>\n",
       "    </tr>\n",
       "    <tr>\n",
       "      <th>2024-03-12</th>\n",
       "      <td>173.229996</td>\n",
       "      <td>109.099998</td>\n",
       "      <td>60.019920</td>\n",
       "    </tr>\n",
       "    <tr>\n",
       "      <th>2024-03-13</th>\n",
       "      <td>171.130005</td>\n",
       "      <td>108.459999</td>\n",
       "      <td>60.634998</td>\n",
       "    </tr>\n",
       "    <tr>\n",
       "      <th>2024-03-14</th>\n",
       "      <td>173.000000</td>\n",
       "      <td>107.830002</td>\n",
       "      <td>60.500000</td>\n",
       "    </tr>\n",
       "    <tr>\n",
       "      <th>2024-03-15</th>\n",
       "      <td>NaN</td>\n",
       "      <td>107.910004</td>\n",
       "      <td>60.025002</td>\n",
       "    </tr>\n",
       "  </tbody>\n",
       "</table>\n",
       "<p>2316 rows × 3 columns</p>\n",
       "</div>"
      ],
      "text/plain": [
       "Ticker            AAPL        IBKR         KO\n",
       "Date                                         \n",
       "2015-01-02   24.435268   27.104450  31.347849\n",
       "2015-01-05   23.746887   26.964394  31.347849\n",
       "2015-01-06   23.749125   26.796337  31.585886\n",
       "2015-01-07   24.082132   26.908379  31.980150\n",
       "2015-01-08   25.007429   27.655315  32.366978\n",
       "...                ...         ...        ...\n",
       "2024-03-11  172.750000  107.730003  59.761982\n",
       "2024-03-12  173.229996  109.099998  60.019920\n",
       "2024-03-13  171.130005  108.459999  60.634998\n",
       "2024-03-14  173.000000  107.830002  60.500000\n",
       "2024-03-15         NaN  107.910004  60.025002\n",
       "\n",
       "[2316 rows x 3 columns]"
      ]
     },
     "execution_count": 12,
     "metadata": {},
     "output_type": "execute_result"
    }
   ],
   "source": [
    "import yfinance as yf\n",
    "\n",
    "df = yf.download(['KO','IBKR','AAPL'],start='2015-01-01')['Adj Close']\n",
    "df"
   ]
  },
  {
   "cell_type": "code",
   "execution_count": 13,
   "id": "c415b1b8-2e9c-4a41-bb30-ac5cf77f8d05",
   "metadata": {},
   "outputs": [
    {
     "data": {
      "text/html": [
       "<div>\n",
       "<style scoped>\n",
       "    .dataframe tbody tr th:only-of-type {\n",
       "        vertical-align: middle;\n",
       "    }\n",
       "\n",
       "    .dataframe tbody tr th {\n",
       "        vertical-align: top;\n",
       "    }\n",
       "\n",
       "    .dataframe thead th {\n",
       "        text-align: right;\n",
       "    }\n",
       "</style>\n",
       "<table border=\"1\" class=\"dataframe\">\n",
       "  <thead>\n",
       "    <tr style=\"text-align: right;\">\n",
       "      <th>Ticker</th>\n",
       "      <th>AAPL</th>\n",
       "      <th>IBKR</th>\n",
       "      <th>KO</th>\n",
       "    </tr>\n",
       "    <tr>\n",
       "      <th>Date</th>\n",
       "      <th></th>\n",
       "      <th></th>\n",
       "      <th></th>\n",
       "    </tr>\n",
       "  </thead>\n",
       "  <tbody>\n",
       "    <tr>\n",
       "      <th>2015-01-02</th>\n",
       "      <td>NaN</td>\n",
       "      <td>NaN</td>\n",
       "      <td>NaN</td>\n",
       "    </tr>\n",
       "    <tr>\n",
       "      <th>2015-01-05</th>\n",
       "      <td>-0.028172</td>\n",
       "      <td>-0.005167</td>\n",
       "      <td>0.000000</td>\n",
       "    </tr>\n",
       "    <tr>\n",
       "      <th>2015-01-06</th>\n",
       "      <td>0.000094</td>\n",
       "      <td>-0.006233</td>\n",
       "      <td>0.007593</td>\n",
       "    </tr>\n",
       "    <tr>\n",
       "      <th>2015-01-07</th>\n",
       "      <td>0.014022</td>\n",
       "      <td>0.004181</td>\n",
       "      <td>0.012482</td>\n",
       "    </tr>\n",
       "    <tr>\n",
       "      <th>2015-01-08</th>\n",
       "      <td>0.038423</td>\n",
       "      <td>0.027759</td>\n",
       "      <td>0.012096</td>\n",
       "    </tr>\n",
       "    <tr>\n",
       "      <th>...</th>\n",
       "      <td>...</td>\n",
       "      <td>...</td>\n",
       "      <td>...</td>\n",
       "    </tr>\n",
       "    <tr>\n",
       "      <th>2024-03-08</th>\n",
       "      <td>0.010237</td>\n",
       "      <td>-0.011904</td>\n",
       "      <td>0.001346</td>\n",
       "    </tr>\n",
       "    <tr>\n",
       "      <th>2024-03-11</th>\n",
       "      <td>0.011832</td>\n",
       "      <td>-0.001668</td>\n",
       "      <td>0.012097</td>\n",
       "    </tr>\n",
       "    <tr>\n",
       "      <th>2024-03-12</th>\n",
       "      <td>0.002779</td>\n",
       "      <td>0.012717</td>\n",
       "      <td>0.004316</td>\n",
       "    </tr>\n",
       "    <tr>\n",
       "      <th>2024-03-13</th>\n",
       "      <td>-0.012123</td>\n",
       "      <td>-0.005866</td>\n",
       "      <td>0.010248</td>\n",
       "    </tr>\n",
       "    <tr>\n",
       "      <th>2024-03-14</th>\n",
       "      <td>0.010927</td>\n",
       "      <td>-0.005809</td>\n",
       "      <td>-0.002226</td>\n",
       "    </tr>\n",
       "  </tbody>\n",
       "</table>\n",
       "<p>2315 rows × 3 columns</p>\n",
       "</div>"
      ],
      "text/plain": [
       "Ticker          AAPL      IBKR        KO\n",
       "Date                                    \n",
       "2015-01-02       NaN       NaN       NaN\n",
       "2015-01-05 -0.028172 -0.005167  0.000000\n",
       "2015-01-06  0.000094 -0.006233  0.007593\n",
       "2015-01-07  0.014022  0.004181  0.012482\n",
       "2015-01-08  0.038423  0.027759  0.012096\n",
       "...              ...       ...       ...\n",
       "2024-03-08  0.010237 -0.011904  0.001346\n",
       "2024-03-11  0.011832 -0.001668  0.012097\n",
       "2024-03-12  0.002779  0.012717  0.004316\n",
       "2024-03-13 -0.012123 -0.005866  0.010248\n",
       "2024-03-14  0.010927 -0.005809 -0.002226\n",
       "\n",
       "[2315 rows x 3 columns]"
      ]
     },
     "execution_count": 13,
     "metadata": {},
     "output_type": "execute_result"
    }
   ],
   "source": [
    "return_df = df.dropna().pct_change()\n",
    "return_df"
   ]
  },
  {
   "cell_type": "code",
   "execution_count": 14,
   "id": "6c07a813-506c-4936-b05b-42db5bd193fe",
   "metadata": {},
   "outputs": [
    {
     "data": {
      "text/html": [
       "<div>\n",
       "<style scoped>\n",
       "    .dataframe tbody tr th:only-of-type {\n",
       "        vertical-align: middle;\n",
       "    }\n",
       "\n",
       "    .dataframe tbody tr th {\n",
       "        vertical-align: top;\n",
       "    }\n",
       "\n",
       "    .dataframe thead th {\n",
       "        text-align: right;\n",
       "    }\n",
       "</style>\n",
       "<table border=\"1\" class=\"dataframe\">\n",
       "  <thead>\n",
       "    <tr style=\"text-align: right;\">\n",
       "      <th>Ticker</th>\n",
       "      <th>AAPL</th>\n",
       "      <th>IBKR</th>\n",
       "      <th>KO</th>\n",
       "    </tr>\n",
       "    <tr>\n",
       "      <th>Date</th>\n",
       "      <th></th>\n",
       "      <th></th>\n",
       "      <th></th>\n",
       "    </tr>\n",
       "  </thead>\n",
       "  <tbody>\n",
       "    <tr>\n",
       "      <th>2015-01-05</th>\n",
       "      <td>-0.028172</td>\n",
       "      <td>-0.005167</td>\n",
       "      <td>0.000000</td>\n",
       "    </tr>\n",
       "    <tr>\n",
       "      <th>2015-01-06</th>\n",
       "      <td>-0.028080</td>\n",
       "      <td>-0.011368</td>\n",
       "      <td>0.007593</td>\n",
       "    </tr>\n",
       "    <tr>\n",
       "      <th>2015-01-07</th>\n",
       "      <td>-0.014452</td>\n",
       "      <td>-0.007234</td>\n",
       "      <td>0.020170</td>\n",
       "    </tr>\n",
       "    <tr>\n",
       "      <th>2015-01-08</th>\n",
       "      <td>0.023415</td>\n",
       "      <td>0.020324</td>\n",
       "      <td>0.032510</td>\n",
       "    </tr>\n",
       "    <tr>\n",
       "      <th>2015-01-09</th>\n",
       "      <td>0.024513</td>\n",
       "      <td>-0.001034</td>\n",
       "      <td>0.021120</td>\n",
       "    </tr>\n",
       "    <tr>\n",
       "      <th>...</th>\n",
       "      <td>...</td>\n",
       "      <td>...</td>\n",
       "      <td>...</td>\n",
       "    </tr>\n",
       "    <tr>\n",
       "      <th>2024-03-08</th>\n",
       "      <td>5.987032</td>\n",
       "      <td>2.981265</td>\n",
       "      <td>0.883628</td>\n",
       "    </tr>\n",
       "    <tr>\n",
       "      <th>2024-03-11</th>\n",
       "      <td>6.069699</td>\n",
       "      <td>2.974624</td>\n",
       "      <td>0.906414</td>\n",
       "    </tr>\n",
       "    <tr>\n",
       "      <th>2024-03-12</th>\n",
       "      <td>6.089343</td>\n",
       "      <td>3.025169</td>\n",
       "      <td>0.914642</td>\n",
       "    </tr>\n",
       "    <tr>\n",
       "      <th>2024-03-13</th>\n",
       "      <td>6.003402</td>\n",
       "      <td>3.001557</td>\n",
       "      <td>0.934263</td>\n",
       "    </tr>\n",
       "    <tr>\n",
       "      <th>2024-03-14</th>\n",
       "      <td>6.079930</td>\n",
       "      <td>2.978314</td>\n",
       "      <td>0.929957</td>\n",
       "    </tr>\n",
       "  </tbody>\n",
       "</table>\n",
       "<p>2314 rows × 3 columns</p>\n",
       "</div>"
      ],
      "text/plain": [
       "Ticker          AAPL      IBKR        KO\n",
       "Date                                    \n",
       "2015-01-05 -0.028172 -0.005167  0.000000\n",
       "2015-01-06 -0.028080 -0.011368  0.007593\n",
       "2015-01-07 -0.014452 -0.007234  0.020170\n",
       "2015-01-08  0.023415  0.020324  0.032510\n",
       "2015-01-09  0.024513 -0.001034  0.021120\n",
       "...              ...       ...       ...\n",
       "2024-03-08  5.987032  2.981265  0.883628\n",
       "2024-03-11  6.069699  2.974624  0.906414\n",
       "2024-03-12  6.089343  3.025169  0.914642\n",
       "2024-03-13  6.003402  3.001557  0.934263\n",
       "2024-03-14  6.079930  2.978314  0.929957\n",
       "\n",
       "[2314 rows x 3 columns]"
      ]
     },
     "execution_count": 14,
     "metadata": {},
     "output_type": "execute_result"
    }
   ],
   "source": [
    "return_df.dropna(inplace=True)\n",
    "(return_df +1).cumprod() -1    # cumulative returns"
   ]
  },
  {
   "cell_type": "code",
   "execution_count": 15,
   "id": "4710dac0-80b2-4aa0-a6ac-f3f41fc97de5",
   "metadata": {},
   "outputs": [
    {
     "data": {
      "text/plain": [
       "<Axes: xlabel='Date'>"
      ]
     },
     "execution_count": 15,
     "metadata": {},
     "output_type": "execute_result"
    },
    {
     "data": {
      "image/png": "[encoded data removed]",
      "text/plain": [
       "<Figure size 640x480 with 1 Axes>"
      ]
     },
     "metadata": {},
     "output_type": "display_data"
    }
   ],
   "source": [
    "((return_df +1).cumprod() -1 ).plot()"
   ]
  },
  {
   "cell_type": "code",
   "execution_count": 16,
   "id": "5c6980c4-7def-4d32-b85e-cb25e087d856",
   "metadata": {},
   "outputs": [
    {
     "data": {
      "text/plain": [
       "Ticker\n",
       "AAPL    0.001012\n",
       "IBKR    0.000794\n",
       "KO      0.000350\n",
       "dtype: float64"
      ]
     },
     "execution_count": 16,
     "metadata": {},
     "output_type": "execute_result"
    }
   ],
   "source": [
    "return_df.mean()"
   ]
  },
  {
   "cell_type": "code",
   "execution_count": 17,
   "id": "858b8962-6004-442b-b392-ec8d85592390",
   "metadata": {},
   "outputs": [
    {
     "data": {
      "text/plain": [
       "Ticker\n",
       "AAPL    0.018187\n",
       "IBKR    0.019836\n",
       "KO      0.011429\n",
       "dtype: float64"
      ]
     },
     "execution_count": 17,
     "metadata": {},
     "output_type": "execute_result"
    }
   ],
   "source": [
    "return_df.std()"
   ]
  },
  {
   "cell_type": "code",
   "execution_count": 18,
   "id": "dedc4823-d0de-4ffd-8381-1d5ffcbd9a2c",
   "metadata": {},
   "outputs": [
    {
     "data": {
      "text/html": [
       "<div>\n",
       "<style scoped>\n",
       "    .dataframe tbody tr th:only-of-type {\n",
       "        vertical-align: middle;\n",
       "    }\n",
       "\n",
       "    .dataframe tbody tr th {\n",
       "        vertical-align: top;\n",
       "    }\n",
       "\n",
       "    .dataframe thead th {\n",
       "        text-align: right;\n",
       "    }\n",
       "</style>\n",
       "<table border=\"1\" class=\"dataframe\">\n",
       "  <thead>\n",
       "    <tr style=\"text-align: right;\">\n",
       "      <th>Ticker</th>\n",
       "      <th>AAPL</th>\n",
       "      <th>IBKR</th>\n",
       "      <th>KO</th>\n",
       "    </tr>\n",
       "    <tr>\n",
       "      <th>Ticker</th>\n",
       "      <th></th>\n",
       "      <th></th>\n",
       "      <th></th>\n",
       "    </tr>\n",
       "  </thead>\n",
       "  <tbody>\n",
       "    <tr>\n",
       "      <th>AAPL</th>\n",
       "      <td>0.000331</td>\n",
       "      <td>0.000143</td>\n",
       "      <td>0.000079</td>\n",
       "    </tr>\n",
       "    <tr>\n",
       "      <th>IBKR</th>\n",
       "      <td>0.000143</td>\n",
       "      <td>0.000393</td>\n",
       "      <td>0.000067</td>\n",
       "    </tr>\n",
       "    <tr>\n",
       "      <th>KO</th>\n",
       "      <td>0.000079</td>\n",
       "      <td>0.000067</td>\n",
       "      <td>0.000131</td>\n",
       "    </tr>\n",
       "  </tbody>\n",
       "</table>\n",
       "</div>"
      ],
      "text/plain": [
       "Ticker      AAPL      IBKR        KO\n",
       "Ticker                              \n",
       "AAPL    0.000331  0.000143  0.000079\n",
       "IBKR    0.000143  0.000393  0.000067\n",
       "KO      0.000079  0.000067  0.000131"
      ]
     },
     "execution_count": 18,
     "metadata": {},
     "output_type": "execute_result"
    }
   ],
   "source": [
    "return_df.cov()"
   ]
  },
  {
   "cell_type": "code",
   "execution_count": 19,
   "id": "b92f70d8-d67b-4134-9748-772c888b71ab",
   "metadata": {},
   "outputs": [
    {
     "data": {
      "text/html": [
       "<div>\n",
       "<style scoped>\n",
       "    .dataframe tbody tr th:only-of-type {\n",
       "        vertical-align: middle;\n",
       "    }\n",
       "\n",
       "    .dataframe tbody tr th {\n",
       "        vertical-align: top;\n",
       "    }\n",
       "\n",
       "    .dataframe thead th {\n",
       "        text-align: right;\n",
       "    }\n",
       "</style>\n",
       "<table border=\"1\" class=\"dataframe\">\n",
       "  <thead>\n",
       "    <tr style=\"text-align: right;\">\n",
       "      <th>Ticker</th>\n",
       "      <th>AAPL</th>\n",
       "      <th>IBKR</th>\n",
       "      <th>KO</th>\n",
       "    </tr>\n",
       "    <tr>\n",
       "      <th>Ticker</th>\n",
       "      <th></th>\n",
       "      <th></th>\n",
       "      <th></th>\n",
       "    </tr>\n",
       "  </thead>\n",
       "  <tbody>\n",
       "    <tr>\n",
       "      <th>AAPL</th>\n",
       "      <td>1.000000</td>\n",
       "      <td>0.395791</td>\n",
       "      <td>0.381488</td>\n",
       "    </tr>\n",
       "    <tr>\n",
       "      <th>IBKR</th>\n",
       "      <td>0.395791</td>\n",
       "      <td>1.000000</td>\n",
       "      <td>0.297513</td>\n",
       "    </tr>\n",
       "    <tr>\n",
       "      <th>KO</th>\n",
       "      <td>0.381488</td>\n",
       "      <td>0.297513</td>\n",
       "      <td>1.000000</td>\n",
       "    </tr>\n",
       "  </tbody>\n",
       "</table>\n",
       "</div>"
      ],
      "text/plain": [
       "Ticker      AAPL      IBKR        KO\n",
       "Ticker                              \n",
       "AAPL    1.000000  0.395791  0.381488\n",
       "IBKR    0.395791  1.000000  0.297513\n",
       "KO      0.381488  0.297513  1.000000"
      ]
     },
     "execution_count": 19,
     "metadata": {},
     "output_type": "execute_result"
    }
   ],
   "source": [
    "return_df.corr()"
   ]
  },
  {
   "cell_type": "code",
   "execution_count": 20,
   "id": "b1e12d21-49e4-40d2-8f29-c864d0b131d5",
   "metadata": {},
   "outputs": [
    {
     "data": {
      "text/plain": [
       "array([0.33333333, 0.33333333, 0.33333333])"
      ]
     },
     "execution_count": 20,
     "metadata": {},
     "output_type": "execute_result"
    }
   ],
   "source": [
    "W = np.ones(len(return_df.columns)) / len(return_df.columns)\n",
    "W"
   ]
  },
  {
   "cell_type": "code",
   "execution_count": 21,
   "id": "ef688494-0a54-4205-b202-a94272d3fce4",
   "metadata": {},
   "outputs": [
    {
     "data": {
      "text/plain": [
       "0.0007183325407235026"
      ]
     },
     "execution_count": 21,
     "metadata": {},
     "output_type": "execute_result"
    }
   ],
   "source": [
    "# portfolio expected return\n",
    "port_exp = W.dot(return_df.mean())\n",
    "port_exp"
   ]
  },
  {
   "cell_type": "code",
   "execution_count": 22,
   "id": "418b785e-bb0c-44e1-a674-a8eb243327c4",
   "metadata": {},
   "outputs": [
    {
     "data": {
      "text/plain": [
       "0.012622502538083629"
      ]
     },
     "execution_count": 22,
     "metadata": {},
     "output_type": "execute_result"
    }
   ],
   "source": [
    "# portfolio std\n",
    "port_std = W.dot(np.transpose(W).dot(return_df.cov())) **0.5\n",
    "port_std"
   ]
  },
  {
   "cell_type": "code",
   "execution_count": 23,
   "id": "b2abc4f8-b2e8-4bac-afbd-d75c256e6626",
   "metadata": {},
   "outputs": [
    {
     "data": {
      "text/plain": [
       "0.05690888463331306"
      ]
     },
     "execution_count": 23,
     "metadata": {},
     "output_type": "execute_result"
    }
   ],
   "source": [
    "#assume risk free rate = 0 \n",
    "# sharp_ratio of the portfolio\n",
    "sharp_ratio = port_exp / port_std\n",
    "sharp_ratio"
   ]
  },
  {
   "cell_type": "code",
   "execution_count": 24,
   "id": "3089818b-5b7b-493b-943c-d2596b820677",
   "metadata": {},
   "outputs": [
    {
     "data": {
      "text/plain": [
       "Ticker\n",
       "AAPL    0.055622\n",
       "IBKR    0.040004\n",
       "KO      0.030612\n",
       "dtype: float64"
      ]
     },
     "execution_count": 24,
     "metadata": {},
     "output_type": "execute_result"
    }
   ],
   "source": [
    "# sharp_ratio of the components\n",
    "return_df.mean() / return_df.std()"
   ]
  },
  {
   "cell_type": "code",
   "execution_count": 25,
   "id": "c898bdfa-be15-4bc9-b861-47e7a630d730",
   "metadata": {},
   "outputs": [
    {
     "data": {
      "text/html": [
       "<div>\n",
       "<style scoped>\n",
       "    .dataframe tbody tr th:only-of-type {\n",
       "        vertical-align: middle;\n",
       "    }\n",
       "\n",
       "    .dataframe tbody tr th {\n",
       "        vertical-align: top;\n",
       "    }\n",
       "\n",
       "    .dataframe thead th {\n",
       "        text-align: right;\n",
       "    }\n",
       "</style>\n",
       "<table border=\"1\" class=\"dataframe\">\n",
       "  <thead>\n",
       "    <tr style=\"text-align: right;\">\n",
       "      <th>Ticker</th>\n",
       "      <th>AAPL</th>\n",
       "      <th>IBKR</th>\n",
       "      <th>KO</th>\n",
       "    </tr>\n",
       "    <tr>\n",
       "      <th>Date</th>\n",
       "      <th></th>\n",
       "      <th></th>\n",
       "      <th></th>\n",
       "    </tr>\n",
       "  </thead>\n",
       "  <tbody>\n",
       "    <tr>\n",
       "      <th>2015-01-05</th>\n",
       "      <td>-0.028172</td>\n",
       "      <td>-0.005167</td>\n",
       "      <td>0.000000</td>\n",
       "    </tr>\n",
       "    <tr>\n",
       "      <th>2015-01-06</th>\n",
       "      <td>0.000094</td>\n",
       "      <td>-0.006233</td>\n",
       "      <td>0.007593</td>\n",
       "    </tr>\n",
       "    <tr>\n",
       "      <th>2015-01-07</th>\n",
       "      <td>0.014022</td>\n",
       "      <td>0.004181</td>\n",
       "      <td>0.012482</td>\n",
       "    </tr>\n",
       "    <tr>\n",
       "      <th>2015-01-08</th>\n",
       "      <td>0.038423</td>\n",
       "      <td>0.027759</td>\n",
       "      <td>0.012096</td>\n",
       "    </tr>\n",
       "    <tr>\n",
       "      <th>2015-01-09</th>\n",
       "      <td>0.001073</td>\n",
       "      <td>-0.020932</td>\n",
       "      <td>-0.011032</td>\n",
       "    </tr>\n",
       "    <tr>\n",
       "      <th>...</th>\n",
       "      <td>...</td>\n",
       "      <td>...</td>\n",
       "      <td>...</td>\n",
       "    </tr>\n",
       "    <tr>\n",
       "      <th>2024-03-08</th>\n",
       "      <td>0.010237</td>\n",
       "      <td>-0.011904</td>\n",
       "      <td>0.001346</td>\n",
       "    </tr>\n",
       "    <tr>\n",
       "      <th>2024-03-11</th>\n",
       "      <td>0.011832</td>\n",
       "      <td>-0.001668</td>\n",
       "      <td>0.012097</td>\n",
       "    </tr>\n",
       "    <tr>\n",
       "      <th>2024-03-12</th>\n",
       "      <td>0.002779</td>\n",
       "      <td>0.012717</td>\n",
       "      <td>0.004316</td>\n",
       "    </tr>\n",
       "    <tr>\n",
       "      <th>2024-03-13</th>\n",
       "      <td>-0.012123</td>\n",
       "      <td>-0.005866</td>\n",
       "      <td>0.010248</td>\n",
       "    </tr>\n",
       "    <tr>\n",
       "      <th>2024-03-14</th>\n",
       "      <td>0.010927</td>\n",
       "      <td>-0.005809</td>\n",
       "      <td>-0.002226</td>\n",
       "    </tr>\n",
       "  </tbody>\n",
       "</table>\n",
       "<p>2314 rows × 3 columns</p>\n",
       "</div>"
      ],
      "text/plain": [
       "Ticker          AAPL      IBKR        KO\n",
       "Date                                    \n",
       "2015-01-05 -0.028172 -0.005167  0.000000\n",
       "2015-01-06  0.000094 -0.006233  0.007593\n",
       "2015-01-07  0.014022  0.004181  0.012482\n",
       "2015-01-08  0.038423  0.027759  0.012096\n",
       "2015-01-09  0.001073 -0.020932 -0.011032\n",
       "...              ...       ...       ...\n",
       "2024-03-08  0.010237 -0.011904  0.001346\n",
       "2024-03-11  0.011832 -0.001668  0.012097\n",
       "2024-03-12  0.002779  0.012717  0.004316\n",
       "2024-03-13 -0.012123 -0.005866  0.010248\n",
       "2024-03-14  0.010927 -0.005809 -0.002226\n",
       "\n",
       "[2314 rows x 3 columns]"
      ]
     },
     "execution_count": 25,
     "metadata": {},
     "output_type": "execute_result"
    }
   ],
   "source": [
    "return_df"
   ]
  },
  {
   "cell_type": "code",
   "execution_count": 26,
   "id": "086f2d9b-f476-45b3-a5db-97d9daae6b37",
   "metadata": {},
   "outputs": [
    {
     "data": {
      "text/plain": [
       "Date\n",
       "2015-01-05   -0.011113\n",
       "2015-01-06    0.000485\n",
       "2015-01-07    0.010228\n",
       "2015-01-08    0.026092\n",
       "2015-01-09   -0.010297\n",
       "                ...   \n",
       "2024-03-08   -0.000107\n",
       "2024-03-11    0.007420\n",
       "2024-03-12    0.006604\n",
       "2024-03-13   -0.002580\n",
       "2024-03-14    0.000964\n",
       "Length: 2314, dtype: float64"
      ]
     },
     "execution_count": 26,
     "metadata": {},
     "output_type": "execute_result"
    }
   ],
   "source": [
    "return_df.mean(axis=1)"
   ]
  },
  {
   "cell_type": "code",
   "execution_count": 27,
   "id": "8ac9723f-e24a-4205-a758-eaddf8da7929",
   "metadata": {},
   "outputs": [
    {
     "data": {
      "text/plain": [
       "Date\n",
       "2015-01-05   -0.011113\n",
       "2015-01-06   -0.010633\n",
       "2015-01-07   -0.000514\n",
       "2015-01-08    0.025565\n",
       "2015-01-09    0.015005\n",
       "                ...   \n",
       "2024-03-08    3.326340\n",
       "2024-03-11    3.358442\n",
       "2024-03-12    3.387224\n",
       "2024-03-13    3.375904\n",
       "2024-03-14    3.380123\n",
       "Length: 2314, dtype: float64"
      ]
     },
     "execution_count": 27,
     "metadata": {},
     "output_type": "execute_result"
    }
   ],
   "source": [
    "(return_df.mean(axis=1) +1).cumprod() -1  # portfolio cumulative returns"
   ]
  },
  {
   "cell_type": "code",
   "execution_count": 28,
   "id": "b11c7360-21c0-4a38-be10-4bdfc2c2eae6",
   "metadata": {},
   "outputs": [
    {
     "data": {
      "text/plain": [
       "<Axes: xlabel='Date'>"
      ]
     },
     "execution_count": 28,
     "metadata": {},
     "output_type": "execute_result"
    },
    {
     "data": {
      "image/png": "[encoded data removed]",
      "text/plain": [
       "<Figure size 640x480 with 1 Axes>"
      ]
     },
     "metadata": {},
     "output_type": "display_data"
    }
   ],
   "source": [
    "((return_df.mean(axis=1) +1).cumprod() -1 ).plot()"
   ]
  }
 ],
 "metadata": {
  "kernelspec": {
   "display_name": "Python 3 (ipykernel)",
   "language": "python",
   "name": "python3"
  },
  "language_info": {
   "codemirror_mode": {
    "name": "ipython",
    "version": 3
   },
   "file_extension": ".py",
   "mimetype": "text/x-python",
   "name": "python",
   "nbconvert_exporter": "python",
   "pygments_lexer": "ipython3",
   "version": "3.11.7"
  }
 },
 "nbformat": 4,
 "nbformat_minor": 5
}
