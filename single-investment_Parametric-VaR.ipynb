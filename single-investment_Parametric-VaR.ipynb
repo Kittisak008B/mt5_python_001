{
 "cells": [
  {
   "cell_type": "code",
   "execution_count": 1,
   "id": "9d88260a-25e1-4fe2-b885-ef86aa0cdb93",
   "metadata": {},
   "outputs": [
    {
     "name": "stderr",
     "output_type": "stream",
     "text": [
      "[*********************100%%**********************]  1 of 1 completed\n"
     ]
    },
    {
     "data": {
      "text/html": [
       "<div>\n",
       "<style scoped>\n",
       "    .dataframe tbody tr th:only-of-type {\n",
       "        vertical-align: middle;\n",
       "    }\n",
       "\n",
       "    .dataframe tbody tr th {\n",
       "        vertical-align: top;\n",
       "    }\n",
       "\n",
       "    .dataframe thead th {\n",
       "        text-align: right;\n",
       "    }\n",
       "</style>\n",
       "<table border=\"1\" class=\"dataframe\">\n",
       "  <thead>\n",
       "    <tr style=\"text-align: right;\">\n",
       "      <th></th>\n",
       "      <th>VOO</th>\n",
       "    </tr>\n",
       "    <tr>\n",
       "      <th>Date</th>\n",
       "      <th></th>\n",
       "    </tr>\n",
       "  </thead>\n",
       "  <tbody>\n",
       "    <tr>\n",
       "      <th>2010-09-10</th>\n",
       "      <td>0.004530</td>\n",
       "    </tr>\n",
       "    <tr>\n",
       "      <th>2010-09-13</th>\n",
       "      <td>0.012497</td>\n",
       "    </tr>\n",
       "    <tr>\n",
       "      <th>2010-09-14</th>\n",
       "      <td>-0.000194</td>\n",
       "    </tr>\n",
       "    <tr>\n",
       "      <th>2010-09-15</th>\n",
       "      <td>0.002520</td>\n",
       "    </tr>\n",
       "    <tr>\n",
       "      <th>2010-09-16</th>\n",
       "      <td>-0.000388</td>\n",
       "    </tr>\n",
       "    <tr>\n",
       "      <th>...</th>\n",
       "      <td>...</td>\n",
       "    </tr>\n",
       "    <tr>\n",
       "      <th>2024-02-13</th>\n",
       "      <td>-0.014195</td>\n",
       "    </tr>\n",
       "    <tr>\n",
       "      <th>2024-02-14</th>\n",
       "      <td>0.009471</td>\n",
       "    </tr>\n",
       "    <tr>\n",
       "      <th>2024-02-15</th>\n",
       "      <td>0.006742</td>\n",
       "    </tr>\n",
       "    <tr>\n",
       "      <th>2024-02-16</th>\n",
       "      <td>-0.005128</td>\n",
       "    </tr>\n",
       "    <tr>\n",
       "      <th>2024-02-20</th>\n",
       "      <td>-0.007711</td>\n",
       "    </tr>\n",
       "  </tbody>\n",
       "</table>\n",
       "<p>3383 rows × 1 columns</p>\n",
       "</div>"
      ],
      "text/plain": [
       "                 VOO\n",
       "Date                \n",
       "2010-09-10  0.004530\n",
       "2010-09-13  0.012497\n",
       "2010-09-14 -0.000194\n",
       "2010-09-15  0.002520\n",
       "2010-09-16 -0.000388\n",
       "...              ...\n",
       "2024-02-13 -0.014195\n",
       "2024-02-14  0.009471\n",
       "2024-02-15  0.006742\n",
       "2024-02-16 -0.005128\n",
       "2024-02-20 -0.007711\n",
       "\n",
       "[3383 rows x 1 columns]"
      ]
     },
     "execution_count": 1,
     "metadata": {},
     "output_type": "execute_result"
    }
   ],
   "source": [
    "#VaR Parametric Method (Gaussian Distribution)\n",
    "import numpy as np\n",
    "import pandas as pd\n",
    "import datetime as dt\n",
    "import yfinance as yf\n",
    "\n",
    "years = 15\n",
    "endDate = dt.datetime.now()\n",
    "startDate = endDate - dt.timedelta(days=365*years)\n",
    "\n",
    "tickers = ['VOO']\n",
    "\n",
    "adj_close_df = pd.DataFrame()\n",
    "for ticker in tickers:\n",
    "    data = yf.download(ticker, start=startDate, end=endDate)\n",
    "    adj_close_df[ticker] = data['Adj Close']\n",
    "\n",
    "log_returns = np.log(adj_close_df / adj_close_df.shift(1))\n",
    "log_returns = log_returns.dropna()\n",
    "log_returns"
   ]
  },
  {
   "cell_type": "code",
   "execution_count": 2,
   "id": "3b06cac1-b5c3-4994-860d-de54a86c62fa",
   "metadata": {},
   "outputs": [
    {
     "name": "stdout",
     "output_type": "stream",
     "text": [
      "Parametric VaR (95.00% confidence) for 1-day horizon: -1.7425%\n"
     ]
    }
   ],
   "source": [
    "from scipy.stats import norm\n",
    "# Calculate mean and standard deviation of returns\n",
    "mean = log_returns.iloc[:,0].mean()\n",
    "std = log_returns.iloc[:,0].std()\n",
    "\n",
    "# Set confidence level and time horizon\n",
    "confidence_level = 0.95\n",
    "time_horizon = 1  # in days\n",
    "\n",
    "# Calculate VaR using the Parametric Method\n",
    "z_score = norm.ppf(1 - confidence_level)\n",
    "var_parametric = mean + z_score * std* np.sqrt(time_horizon)\n",
    "\n",
    "# Print or display the result\n",
    "print(f\"Parametric VaR ({confidence_level * 100:.2f}% confidence) for {time_horizon}-day horizon: {var_parametric * 100:.4f}%\")"
   ]
  },
  {
   "cell_type": "code",
   "execution_count": 3,
   "id": "9590035b-5e0e-4ecc-af72-565800ce9bf3",
   "metadata": {},
   "outputs": [
    {
     "data": {
      "text/plain": [
       "(-0.05, 0.05)"
      ]
     },
     "execution_count": 3,
     "metadata": {},
     "output_type": "execute_result"
    },
    {
     "data": {
      "image/png": "[encoded data removed]",
      "text/plain": [
       "<Figure size 640x480 with 1 Axes>"
      ]
     },
     "metadata": {},
     "output_type": "display_data"
    }
   ],
   "source": [
    "import matplotlib.pyplot as plt\n",
    "%matplotlib inline\n",
    "\n",
    "log_returns.iloc[:,0].hist(bins=50, density=True ,color='blue', alpha=0.6)\n",
    "\n",
    "plt.xlabel('Returns')\n",
    "plt.ylabel('Probability Density')\n",
    "plt.axvline(x=var_parametric, linestyle='--', color='r', label= f'VaR at {confidence_level}% Confidence')\n",
    "plt.title(f'Parametric VaR assumes a Gaussian distribution for {time_horizon} days')\n",
    "plt.legend()\n",
    "plt.xlim(-0.05, 0.05)"
   ]
  }
 ],
 "metadata": {
  "kernelspec": {
   "display_name": "Python 3 (ipykernel)",
   "language": "python",
   "name": "python3"
  },
  "language_info": {
   "codemirror_mode": {
    "name": "ipython",
    "version": 3
   },
   "file_extension": ".py",
   "mimetype": "text/x-python",
   "name": "python",
   "nbconvert_exporter": "python",
   "pygments_lexer": "ipython3",
   "version": "3.11.7"
  }
 },
 "nbformat": 4,
 "nbformat_minor": 5
}
